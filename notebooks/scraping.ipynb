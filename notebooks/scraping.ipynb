{
 "cells": [
  {
   "cell_type": "markdown",
   "metadata": {},
   "source": [
    "# Scraping All Headlines + Other Data\n",
    "\n",
    "From \n",
    "- https://www.cbc.ca/news\n",
    "- https://www.ctvnews.ca/canada\n",
    "- https://globalnews.ca/canada/"
   ]
  },
  {
   "cell_type": "code",
   "execution_count": 1,
   "metadata": {},
   "outputs": [],
   "source": [
    "import pandas as pd\n",
    "from dateutil import parser\n",
    "from datetime import date\n",
    "import requests\n",
    "from bs4 import BeautifulSoup"
   ]
  },
  {
   "cell_type": "markdown",
   "metadata": {},
   "source": [
    "## Get ISO Date\n",
    "- Format that is sortable by Pandas"
   ]
  },
  {
   "cell_type": "code",
   "execution_count": 2,
   "metadata": {},
   "outputs": [
    {
     "name": "stdout",
     "output_type": "stream",
     "text": [
      "2023-08-16\n"
     ]
    }
   ],
   "source": [
    "# from datetime import date\n",
    "\n",
    "def get_today_iso():\n",
    "    return date.today().isoformat()\n",
    "\n",
    "# Example usage:\n",
    "print(get_today_iso())"
   ]
  },
  {
   "cell_type": "markdown",
   "metadata": {},
   "source": [
    "## Robust Date Parsing\n",
    "- Can parse date from strings of text -- useful for checking if something is published today (else ignore)"
   ]
  },
  {
   "cell_type": "code",
   "execution_count": 3,
   "metadata": {},
   "outputs": [
    {
     "name": "stdout",
     "output_type": "stream",
     "text": [
      "2023-08-15\n",
      "2023-08-15\n"
     ]
    }
   ],
   "source": [
    "# from dateutil import parser\n",
    "\n",
    "def robust_parse_date(date_string):\n",
    "    # Attempt to parse the date_string\n",
    "    dt = parser.parse(date_string, fuzzy=True)\n",
    "    \n",
    "    # Return the date in the ISO format\n",
    "    return dt.date().isoformat()\n",
    "\n",
    "# Example usage:\n",
    "date_string_1 = \"Tue Aug 15 20:38:14 2023\"\n",
    "date_string_2 = \"Tue Aug 15 20:38:14 EDT 2023\"\n",
    "print(robust_parse_date(date_string_1))\n",
    "print(robust_parse_date(date_string_2))"
   ]
  },
  {
   "cell_type": "markdown",
   "metadata": {},
   "source": [
    "## Converting Date back to Str\n",
    "- Used specifically for the final plot. Df must be sorted according to numeric date, then this is used for plotting along x-axis (more interpretable than the numeric date)"
   ]
  },
  {
   "cell_type": "code",
   "execution_count": 4,
   "metadata": {},
   "outputs": [
    {
     "name": "stdout",
     "output_type": "stream",
     "text": [
      "Feb 29, 2020\n"
     ]
    }
   ],
   "source": [
    "from datetime import datetime\n",
    "\n",
    "def get_date_str(date_str):\n",
    "    # Parse the input date string to a datetime object\n",
    "    date_obj = datetime.strptime(date_str, '%Y-%m-%d')\n",
    "    \n",
    "    # Format the datetime object to the desired output format\n",
    "    return date_obj.strftime('%b %d, %Y')\n",
    "\n",
    "# Example\n",
    "date_str = \"2020-02-29\"\n",
    "print(get_date_str(date_str))  # Outputs: Aug 15, 2023"
   ]
  },
  {
   "cell_type": "markdown",
   "metadata": {},
   "source": [
    "## CBC Scraping\n",
    "https://www.cbc.ca/news"
   ]
  },
  {
   "cell_type": "code",
   "execution_count": 5,
   "metadata": {},
   "outputs": [],
   "source": [
    "# import requests\n",
    "# from bs4 import BeautifulSoup"
   ]
  },
  {
   "cell_type": "code",
   "execution_count": 34,
   "metadata": {},
   "outputs": [
    {
     "name": "stdout",
     "output_type": "stream",
     "text": [
      "200\n",
      "36\n"
     ]
    },
    {
     "data": {
      "text/plain": [
       "[(\"Family drove 'through embers' fleeing N.W.T. wildfires as vehicle melted around them\",\n",
       "  'https://www.cbc.ca/news/canada/north/driving-through-embers-hay-river-family-flees-wildfires-in-nwt-1.6937089'),\n",
       " (\"Family drove 'through embers' fleeing N.W.T. wildfires as vehicle melted around them\",\n",
       "  'https://www.cbc.ca/news/canada/north/driving-through-embers-hay-river-family-flees-wildfires-in-nwt-1.6937089'),\n",
       " ('Visit our low-bandwidth CBC North news website',\n",
       "  'https://www.cbc.cahttps://www.cbc.ca/lite/news/canada/north?sort=editors-picks'),\n",
       " ('N.W.T. evacuees relive journeys out of wildfire danger',\n",
       "  'https://www.cbc.ca/news/canada/edmonton/northwest-territories-evacuees-relive-their-journeys-out-of-wildfire-danger-1.6938157'),\n",
       " (\"Wildfire could reach Yellowknife's outskirts by weekend\",\n",
       "  'https://www.cbc.ca/news/canada/north/nwt-highway-3-evacuation-order-extended-to-yellowknife-boundary-1.6938032')]"
      ]
     },
     "execution_count": 34,
     "metadata": {},
     "output_type": "execute_result"
    }
   ],
   "source": [
    "url = \"https://www.cbc.ca/news\"\n",
    "\n",
    "response = requests.get(url)\n",
    "print(response.status_code)\n",
    "soup = BeautifulSoup(response.content, \"html.parser\")\n",
    "\n",
    "links = soup.find_all(\"a\")\n",
    "cbc_headlines = []\n",
    "for link in links:\n",
    "    headline = link.h3\n",
    "    href = link['href']\n",
    "\n",
    "    # make sure both are not None\n",
    "    if (headline and href):\n",
    "        cbc_headlines.append((headline.text, \"https://www.cbc.ca\" + href))\n",
    "\n",
    "print(len(cbc_headlines))\n",
    "cbc_headlines[:5]"
   ]
  },
  {
   "cell_type": "markdown",
   "metadata": {},
   "source": [
    "## CTV Scraping\n",
    "https://www.ctvnews.ca/canada"
   ]
  },
  {
   "cell_type": "code",
   "execution_count": 35,
   "metadata": {},
   "outputs": [
    {
     "name": "stdout",
     "output_type": "stream",
     "text": [
      "200\n",
      "110\n"
     ]
    },
    {
     "data": {
      "text/plain": [
       "[('Flaring wildfire in southern B.C. traps backcountry campers as only road is cut',\n",
       "  'https://bc.ctvnews.ca/flaring-wildfire-in-southern-b-c-traps-backcountry-campers-as-only-road-is-cut-1.6521596'),\n",
       " ('18-month-old toddler dead in Edmonton; police call circumstances suspicious',\n",
       "  'https://edmonton.ctvnews.ca/18-month-old-toddler-dead-in-edmonton-police-call-circumstances-suspicious-1.6521826'),\n",
       " ('Ex-CRA employee allegedly embezzled almost $20,000 in CERB, CRCB scam: RCMP',\n",
       "  'https://www.ctvnews.ca/canada/ex-cra-employee-allegedly-embezzled-almost-20-000-in-cerb-crcb-scam-rcmp-1.6521582'),\n",
       " ('In photos: Fires rage near N.W.T. communities',\n",
       "  'https://www.ctvnews.ca/canada/in-photos-fires-rage-near-n-w-t-communities-1.6521657'),\n",
       " (\"Why gas prices are high and why an expert says they won't drop until the winter\",\n",
       "  'https://www.ctvnews.ca/business/why-gas-prices-are-high-and-why-an-expert-says-they-won-t-drop-until-the-winter-1.6521349')]"
      ]
     },
     "execution_count": 35,
     "metadata": {},
     "output_type": "execute_result"
    }
   ],
   "source": [
    "url = \"https://www.ctvnews.ca/canada\"\n",
    "\n",
    "response = requests.get(url)\n",
    "print(response.status_code)\n",
    "soup = BeautifulSoup(response.content, \"html.parser\")\n",
    "\n",
    "links = soup.find_all(\"h3\", attrs = {'class' : 'c-list__item__title'})\n",
    "ctv_headlines = []\n",
    "for link in links:\n",
    "\n",
    "    # get url and text\n",
    "    if link.a:\n",
    "        href = link.a['href'].strip()\n",
    "        text = link.a.text.strip()\n",
    "\n",
    "        # make sure both are not None\n",
    "        if (text and href):\n",
    "            ctv_headlines.append((text, href))\n",
    "\n",
    "print(len(ctv_headlines))\n",
    "ctv_headlines[:5]"
   ]
  },
  {
   "cell_type": "markdown",
   "metadata": {},
   "source": [
    "## Global News Scraping\n",
    "https://globalnews.ca/canada/"
   ]
  },
  {
   "cell_type": "code",
   "execution_count": 36,
   "metadata": {},
   "outputs": [
    {
     "name": "stdout",
     "output_type": "stream",
     "text": [
      "200\n",
      "49\n"
     ]
    },
    {
     "data": {
      "text/plain": [
       "[('More time needed for Saskatoon downtown entertainment district reports',\n",
       "  'https://globalnews.ca/news/9899843/more-time-needed-saskatoon-downtown-entertainment-district-reports/'),\n",
       " ('LCBO warns subscribers of promotional emails after data breach',\n",
       "  'https://globalnews.ca/news/9900135/lcbo-emails-data-breach/'),\n",
       " ('Saskatoon city committee discusses 2022 snow removal debt solution on Wednesday',\n",
       "  'https://globalnews.ca/news/9899757/saskatoon-city-committee-2022-snow-removal-debt-solution/'),\n",
       " ('FSIN First Vice-Chief highlights resource development concerns leading up to AFN election',\n",
       "  'https://globalnews.ca/video/9899966/fsin-first-vice-chief-highlights-resource-development-concerns-leading-up-to-afn-election/'),\n",
       " ('Winnipeg sees second smoky morning on Wednesday',\n",
       "  'https://globalnews.ca/video/9899832/winnipeg-sees-second-smoky-morning-on-wednesday/')]"
      ]
     },
     "execution_count": 36,
     "metadata": {},
     "output_type": "execute_result"
    }
   ],
   "source": [
    "url = \"https://globalnews.ca/canada/\"\n",
    "\n",
    "response = requests.get(url)\n",
    "print(response.status_code)\n",
    "soup = BeautifulSoup(response.content, \"html.parser\")\n",
    "\n",
    "links = soup.find_all(\"a\", attrs = {'class' : 'c-posts__inner'})\n",
    "\n",
    "global_headlines = []\n",
    "for link in links:\n",
    "\n",
    "    # get span element -- text is here\n",
    "    if link.span:\n",
    "        href = link['href'].strip()\n",
    "        text = link.span.text.strip()\n",
    "\n",
    "        # make sure both are not None\n",
    "        if (text and href):\n",
    "            global_headlines.append((text, href))\n",
    "\n",
    "print(len(global_headlines))\n",
    "global_headlines[:5]"
   ]
  },
  {
   "cell_type": "markdown",
   "metadata": {},
   "source": [
    "## National Post Scraping\n",
    "https://nationalpost.com/category/news/canada/\n",
    "- Currently doesn't work. Get request is denied (403 error) -- they probably don't like programatic access"
   ]
  },
  {
   "cell_type": "code",
   "execution_count": 9,
   "metadata": {},
   "outputs": [],
   "source": [
    "# url = \"https://nationalpost.com/category/news/canada/\"\n",
    "\n",
    "# response = requests.get(url)\n",
    "# print(response.status_code)\n",
    "# # soup = BeautifulSoup(response.content, \"html.parser\")\n",
    "\n",
    "# links = soup.find_all(\"a\", attrs = {'class' : 'c-posts__inner'})\n",
    "\n",
    "# global_headlines = []\n",
    "# for link in links:\n",
    "\n",
    "#     # get span element -- text is here\n",
    "#     if link.span:\n",
    "#         href = link['href'].strip()\n",
    "#         text = link.span.text.strip()\n",
    "\n",
    "#         # make sure both are not None\n",
    "#         if (text and href):\n",
    "#             global_headlines.append((text, href))\n",
    "\n",
    "# global_headlines[:5]"
   ]
  },
  {
   "cell_type": "markdown",
   "metadata": {},
   "source": [
    "# Sentiment Analysis"
   ]
  },
  {
   "cell_type": "code",
   "execution_count": 10,
   "metadata": {},
   "outputs": [
    {
     "name": "stderr",
     "output_type": "stream",
     "text": [
      "2023-08-16 14:56:09.570273: I tensorflow/core/platform/cpu_feature_guard.cc:193] This TensorFlow binary is optimized with oneAPI Deep Neural Network Library (oneDNN) to use the following CPU instructions in performance-critical operations:  AVX2 AVX512F AVX512_VNNI FMA\n",
      "To enable them in other operations, rebuild TensorFlow with the appropriate compiler flags.\n"
     ]
    },
    {
     "data": {
      "application/json": {
       "ascii": false,
       "bar_format": null,
       "colour": null,
       "elapsed": 0.06914401054382324,
       "initial": 0,
       "n": 0,
       "ncols": null,
       "nrows": null,
       "postfix": null,
       "prefix": "Downloading (…)lve/main/config.json",
       "rate": null,
       "total": 933,
       "unit": "B",
       "unit_divisor": 1000,
       "unit_scale": true
      },
      "application/vnd.jupyter.widget-view+json": {
       "model_id": "9380d453e9e149cf84d45ccd0f686496",
       "version_major": 2,
       "version_minor": 0
      },
      "text/plain": [
       "Downloading (…)lve/main/config.json:   0%|          | 0.00/933 [00:00<?, ?B/s]"
      ]
     },
     "metadata": {},
     "output_type": "display_data"
    },
    {
     "data": {
      "application/json": {
       "ascii": false,
       "bar_format": null,
       "colour": null,
       "elapsed": 0.02474808692932129,
       "initial": 0,
       "n": 0,
       "ncols": null,
       "nrows": null,
       "postfix": null,
       "prefix": "Downloading model.safetensors",
       "rate": null,
       "total": 328499560,
       "unit": "B",
       "unit_divisor": 1000,
       "unit_scale": true
      },
      "application/vnd.jupyter.widget-view+json": {
       "model_id": "1256d62af52b414a8b7d460217ac96c7",
       "version_major": 2,
       "version_minor": 0
      },
      "text/plain": [
       "Downloading model.safetensors:   0%|          | 0.00/328M [00:00<?, ?B/s]"
      ]
     },
     "metadata": {},
     "output_type": "display_data"
    },
    {
     "data": {
      "application/json": {
       "ascii": false,
       "bar_format": null,
       "colour": null,
       "elapsed": 0.01598811149597168,
       "initial": 0,
       "n": 0,
       "ncols": null,
       "nrows": null,
       "postfix": null,
       "prefix": "Downloading (…)okenizer_config.json",
       "rate": null,
       "total": 333,
       "unit": "B",
       "unit_divisor": 1000,
       "unit_scale": true
      },
      "application/vnd.jupyter.widget-view+json": {
       "model_id": "51e124a3827a49edac7e32114e520455",
       "version_major": 2,
       "version_minor": 0
      },
      "text/plain": [
       "Downloading (…)okenizer_config.json:   0%|          | 0.00/333 [00:00<?, ?B/s]"
      ]
     },
     "metadata": {},
     "output_type": "display_data"
    },
    {
     "data": {
      "application/json": {
       "ascii": false,
       "bar_format": null,
       "colour": null,
       "elapsed": 0.029957056045532227,
       "initial": 0,
       "n": 0,
       "ncols": null,
       "nrows": null,
       "postfix": null,
       "prefix": "Downloading (…)olve/main/vocab.json",
       "rate": null,
       "total": 798293,
       "unit": "B",
       "unit_divisor": 1000,
       "unit_scale": true
      },
      "application/vnd.jupyter.widget-view+json": {
       "model_id": "68209e9c1fa04d1ab3b12781e7c72d24",
       "version_major": 2,
       "version_minor": 0
      },
      "text/plain": [
       "Downloading (…)olve/main/vocab.json:   0%|          | 0.00/798k [00:00<?, ?B/s]"
      ]
     },
     "metadata": {},
     "output_type": "display_data"
    },
    {
     "data": {
      "application/json": {
       "ascii": false,
       "bar_format": null,
       "colour": null,
       "elapsed": 0.030865907669067383,
       "initial": 0,
       "n": 0,
       "ncols": null,
       "nrows": null,
       "postfix": null,
       "prefix": "Downloading (…)olve/main/merges.txt",
       "rate": null,
       "total": 456356,
       "unit": "B",
       "unit_divisor": 1000,
       "unit_scale": true
      },
      "application/vnd.jupyter.widget-view+json": {
       "model_id": "f8f696fd6c7e4570bb8caa18ea4bd3a3",
       "version_major": 2,
       "version_minor": 0
      },
      "text/plain": [
       "Downloading (…)olve/main/merges.txt:   0%|          | 0.00/456k [00:00<?, ?B/s]"
      ]
     },
     "metadata": {},
     "output_type": "display_data"
    },
    {
     "data": {
      "application/json": {
       "ascii": false,
       "bar_format": null,
       "colour": null,
       "elapsed": 0.029195070266723633,
       "initial": 0,
       "n": 0,
       "ncols": null,
       "nrows": null,
       "postfix": null,
       "prefix": "Downloading (…)/main/tokenizer.json",
       "rate": null,
       "total": 1355932,
       "unit": "B",
       "unit_divisor": 1000,
       "unit_scale": true
      },
      "application/vnd.jupyter.widget-view+json": {
       "model_id": "1231970f68984f6a843a15a0f8f7f07f",
       "version_major": 2,
       "version_minor": 0
      },
      "text/plain": [
       "Downloading (…)/main/tokenizer.json:   0%|          | 0.00/1.36M [00:00<?, ?B/s]"
      ]
     },
     "metadata": {},
     "output_type": "display_data"
    },
    {
     "data": {
      "application/json": {
       "ascii": false,
       "bar_format": null,
       "colour": null,
       "elapsed": 0.027843952178955078,
       "initial": 0,
       "n": 0,
       "ncols": null,
       "nrows": null,
       "postfix": null,
       "prefix": "Downloading (…)cial_tokens_map.json",
       "rate": null,
       "total": 239,
       "unit": "B",
       "unit_divisor": 1000,
       "unit_scale": true
      },
      "application/vnd.jupyter.widget-view+json": {
       "model_id": "7eef9b3958614276b95a230018851350",
       "version_major": 2,
       "version_minor": 0
      },
      "text/plain": [
       "Downloading (…)cial_tokens_map.json:   0%|          | 0.00/239 [00:00<?, ?B/s]"
      ]
     },
     "metadata": {},
     "output_type": "display_data"
    },
    {
     "name": "stderr",
     "output_type": "stream",
     "text": [
      "Xformers is not installed correctly. If you want to use memory_efficient_attention to accelerate training use the following command to install Xformers\n",
      "pip install xformers.\n"
     ]
    }
   ],
   "source": [
    "from transformers import pipeline\n",
    "\n",
    "## general bart large for SA\n",
    "# classifier = pipeline(\"zero-shot-classification\", model = \"facebook/bart-large-mnli\")\n",
    "\n",
    "## roberta for SA specifically trained on news and finance \n",
    "classifier = pipeline(\"text-classification\", model = \"mrm8488/distilroberta-finetuned-financial-news-sentiment-analysis\")"
   ]
  },
  {
   "cell_type": "code",
   "execution_count": 40,
   "metadata": {},
   "outputs": [
    {
     "name": "stderr",
     "output_type": "stream",
     "text": [
      "Ignoring args : (['positive', 'negative', 'netural'],)\n"
     ]
    },
    {
     "name": "stdout",
     "output_type": "stream",
     "text": [
      "Family drove 'through embers' fleeing N.W.T. wildfires as vehicle melted around them\n",
      "[{'label': 'neutral', 'score': 0.9991379976272583}]\n"
     ]
    }
   ],
   "source": [
    "for headline, url in cbc_headlines:\n",
    "    result = classifier(headline, ['positive', 'negative', 'netural'])\n",
    "    print(headline)\n",
    "    print(result)\n",
    "    break"
   ]
  },
  {
   "cell_type": "code",
   "execution_count": 11,
   "metadata": {},
   "outputs": [],
   "source": [
    "from tqdm import tqdm"
   ]
  },
  {
   "cell_type": "markdown",
   "metadata": {},
   "source": [
    "This hasn't ever worked but I'm leaving it case it ever might start working"
   ]
  },
  {
   "cell_type": "code",
   "execution_count": 59,
   "metadata": {},
   "outputs": [],
   "source": [
    "# output[0]"
   ]
  },
  {
   "cell_type": "code",
   "execution_count": 60,
   "metadata": {},
   "outputs": [
    {
     "data": {
      "application/json": {
       "ascii": false,
       "bar_format": null,
       "colour": null,
       "elapsed": 0.02941107749938965,
       "initial": 0,
       "n": 0,
       "ncols": null,
       "nrows": null,
       "postfix": null,
       "prefix": "Downloading (…)lve/main/config.json",
       "rate": null,
       "total": 929,
       "unit": "B",
       "unit_divisor": 1000,
       "unit_scale": true
      },
      "application/vnd.jupyter.widget-view+json": {
       "model_id": "b82fdc0efd1648239e39d273f754bdc8",
       "version_major": 2,
       "version_minor": 0
      },
      "text/plain": [
       "Downloading (…)lve/main/config.json:   0%|          | 0.00/929 [00:00<?, ?B/s]"
      ]
     },
     "metadata": {},
     "output_type": "display_data"
    },
    {
     "data": {
      "application/json": {
       "ascii": false,
       "bar_format": null,
       "colour": null,
       "elapsed": 0.020400047302246094,
       "initial": 0,
       "n": 0,
       "ncols": null,
       "nrows": null,
       "postfix": null,
       "prefix": "Downloading (…)olve/main/vocab.json",
       "rate": null,
       "total": 898822,
       "unit": "B",
       "unit_divisor": 1000,
       "unit_scale": true
      },
      "application/vnd.jupyter.widget-view+json": {
       "model_id": "481a3219e1394a60b77070f6076b6654",
       "version_major": 2,
       "version_minor": 0
      },
      "text/plain": [
       "Downloading (…)olve/main/vocab.json:   0%|          | 0.00/899k [00:00<?, ?B/s]"
      ]
     },
     "metadata": {},
     "output_type": "display_data"
    },
    {
     "data": {
      "application/json": {
       "ascii": false,
       "bar_format": null,
       "colour": null,
       "elapsed": 0.02035808563232422,
       "initial": 0,
       "n": 0,
       "ncols": null,
       "nrows": null,
       "postfix": null,
       "prefix": "Downloading (…)olve/main/merges.txt",
       "rate": null,
       "total": 456318,
       "unit": "B",
       "unit_divisor": 1000,
       "unit_scale": true
      },
      "application/vnd.jupyter.widget-view+json": {
       "model_id": "8297433ffd9149ec89ca144eabf83567",
       "version_major": 2,
       "version_minor": 0
      },
      "text/plain": [
       "Downloading (…)olve/main/merges.txt:   0%|          | 0.00/456k [00:00<?, ?B/s]"
      ]
     },
     "metadata": {},
     "output_type": "display_data"
    },
    {
     "data": {
      "application/json": {
       "ascii": false,
       "bar_format": null,
       "colour": null,
       "elapsed": 0.021048784255981445,
       "initial": 0,
       "n": 0,
       "ncols": null,
       "nrows": null,
       "postfix": null,
       "prefix": "Downloading (…)cial_tokens_map.json",
       "rate": null,
       "total": 239,
       "unit": "B",
       "unit_divisor": 1000,
       "unit_scale": true
      },
      "application/vnd.jupyter.widget-view+json": {
       "model_id": "373b28c277854502957aebaa6c3cfa7e",
       "version_major": 2,
       "version_minor": 0
      },
      "text/plain": [
       "Downloading (…)cial_tokens_map.json:   0%|          | 0.00/239 [00:00<?, ?B/s]"
      ]
     },
     "metadata": {},
     "output_type": "display_data"
    },
    {
     "data": {
      "application/json": {
       "ascii": false,
       "bar_format": null,
       "colour": null,
       "elapsed": 0.028177738189697266,
       "initial": 0,
       "n": 0,
       "ncols": null,
       "nrows": null,
       "postfix": null,
       "prefix": "Downloading pytorch_model.bin",
       "rate": null,
       "total": 501045531,
       "unit": "B",
       "unit_divisor": 1000,
       "unit_scale": true
      },
      "application/vnd.jupyter.widget-view+json": {
       "model_id": "69204b62056a459c84eece38be2ccb1e",
       "version_major": 2,
       "version_minor": 0
      },
      "text/plain": [
       "Downloading pytorch_model.bin:   0%|          | 0.00/501M [00:00<?, ?B/s]"
      ]
     },
     "metadata": {},
     "output_type": "display_data"
    },
    {
     "name": "stderr",
     "output_type": "stream",
     "text": [
      "Some weights of the model checkpoint at cardiffnlp/twitter-roberta-base-sentiment-latest were not used when initializing RobertaForSequenceClassification: ['roberta.pooler.dense.bias', 'roberta.pooler.dense.weight']\n",
      "- This IS expected if you are initializing RobertaForSequenceClassification from the checkpoint of a model trained on another task or with another architecture (e.g. initializing a BertForSequenceClassification model from a BertForPreTraining model).\n",
      "- This IS NOT expected if you are initializing RobertaForSequenceClassification from the checkpoint of a model that you expect to be exactly identical (initializing a BertForSequenceClassification model from a BertForSequenceClassification model).\n"
     ]
    }
   ],
   "source": [
    "from transformers import AutoModelForSequenceClassification\n",
    "from transformers import TFAutoModelForSequenceClassification\n",
    "from transformers import AutoTokenizer, AutoConfig\n",
    "import numpy as np\n",
    "from scipy.special import softmax\n",
    "\n",
    "MODEL = f\"cardiffnlp/twitter-roberta-base-sentiment-latest\"\n",
    "tokenizer = AutoTokenizer.from_pretrained(MODEL)\n",
    "config = AutoConfig.from_pretrained(MODEL)\n",
    "model = AutoModelForSequenceClassification.from_pretrained(MODEL)"
   ]
  },
  {
   "cell_type": "code",
   "execution_count": 95,
   "metadata": {},
   "outputs": [
    {
     "data": {
      "text/plain": [
       "{'positive': 0.972092, 'neutral': 0.022085054, 'negative': 0.0058229654}"
      ]
     },
     "execution_count": 95,
     "metadata": {},
     "output_type": "execute_result"
    }
   ],
   "source": [
    "text = \"Feds blamed AFN for farty, slow progress on First Nations policing bill: documents\"\n",
    "\n",
    "def sa_model(headline: str):\n",
    "    encoded_input = tokenizer(headline, return_tensors = 'pt')\n",
    "    output = model(**encoded_input)\n",
    "    scores = output[0][0].detach().numpy()\n",
    "    scores = softmax(scores)\n",
    "    ranking = np.argsort(scores)\n",
    "    ranking = ranking[::-1]\n",
    "\n",
    "    results = {}\n",
    "\n",
    "    for i in range(scores.shape[0]):\n",
    "        l = config.id2label[ranking[i]]\n",
    "        s = scores[ranking[i]]\n",
    "        results[l] = s\n",
    "\n",
    "    return results\n",
    "\n",
    "\n",
    "new_text = \"This is my favourite flavour of cake\"\n",
    "\n",
    "sa_model(headline = new_text)"
   ]
  },
  {
   "cell_type": "code",
   "execution_count": 13,
   "metadata": {},
   "outputs": [],
   "source": [
    "# def SA_headlines(headlines_urls: list, labels: list, source: str = None):\n",
    "\n",
    "#     responses_dict = {lab:[] for lab in labels}\n",
    "\n",
    "#     responses_dict = {\n",
    "#         'source' : [],\n",
    "#         'date' : [],\n",
    "#         \"headline\" : [],\n",
    "#         'url' : [],\n",
    "#         \"chosen_label\" : [],\n",
    "#         'chosen_label_val' : [],\n",
    "#         **responses_dict, # empty list for each passed label\n",
    "#         }\n",
    "\n",
    "#     if ('negative' and 'positive') in labels:\n",
    "#         responses_dict['compound'] = []\n",
    "\n",
    "#     date = get_today_iso()\n",
    "\n",
    "#     # get rid of any duplicates in headlines list\n",
    "#     headlines_urls = list(set(headlines_urls))\n",
    "\n",
    "#     for head_text, url in tqdm(headlines_urls, desc = source):\n",
    "  \n",
    "#         # add non-SA things to dict\n",
    "#         responses_dict['source'].append(source.strip())\n",
    "#         responses_dict['date'].append(date.strip())\n",
    "#         responses_dict['headline'].append(head_text.strip())\n",
    "#         responses_dict['url'].append(url)\n",
    "\n",
    "#         # perform SA\n",
    "#         response = classifier(head_text, labels)\n",
    "\n",
    "#         # add SA results to dict\n",
    "#         for i in range(len(labels)):\n",
    "#             responses_dict[labels[i]].append(response['scores'][response['labels'].index(labels[i])]) # score of \"___\" index label\n",
    "\n",
    "#         # creating compound score from 'negative' and 'positive' and 'neutral' scores\n",
    "#         if ('negative' and 'positive' and 'neutral') in labels:\n",
    "#             compound = (responses_dict['positive'][-1] - responses_dict['negative'][-1]) * (1 - responses_dict['neutral'][-1])\n",
    "#             responses_dict['compound'].append(compound)\n",
    "#             responses_dict['chosen_label_val'].append(compound) # redundant but conceptually correct\n",
    "\n",
    "#             # creating SA labels from compound score (a bit more robust than model's labels)\n",
    "#             if compound >= 0.1:\n",
    "#                 responses_dict['chosen_label'].append(\"positive\")\n",
    "#             elif compound <= -0.1:\n",
    "#                 # responses_dict['chosen_label_val'].append(\"negative\")\n",
    "#                 responses_dict['chosen_label'].append('negative')\n",
    "#             else:\n",
    "#                 responses_dict['chosen_label'].append(\"neutral\")\n",
    "\n",
    "#         # if no pos + neg, just use model's labels\n",
    "#         else:\n",
    "#             responses_dict['chosen_label_val'].append(response['scores'][0])\n",
    "#             responses_dict['chosen_label'].append(response['labels'][0])\n",
    "\n",
    "#     return responses_dict\n",
    "\n",
    "# # labels = ['positive', 'negative', 'neutral']\n",
    "# # news_source = \"Global\"\n",
    "\n",
    "# # sa_results = SA_headlines(headlines_urls = headlines, labels = labels, source = news_source)"
   ]
  },
  {
   "cell_type": "code",
   "execution_count": 158,
   "metadata": {},
   "outputs": [],
   "source": [
    "def sa_headlines(headlines_urls: list, source: str = None):\n",
    "\n",
    "    responses_dict = {lab:[] for lab in labels}\n",
    "\n",
    "    responses_dict = {\n",
    "        'source' : [],\n",
    "        'date' : [],\n",
    "        \"headline\" : [],\n",
    "        'url' : [],\n",
    "        \"chosen_label\" : [],\n",
    "        # 'chosen_label_val' : [],\n",
    "        'positive': [],\n",
    "        'negative': [],\n",
    "        'neutral': [],\n",
    "        'compound' : []\n",
    "        }\n",
    "\n",
    "    date = get_today_iso()\n",
    "\n",
    "    # get rid of any duplicates in headlines list\n",
    "    headlines_urls = list(set(headlines_urls))\n",
    "\n",
    "    for head_text, url in tqdm(headlines_urls, desc = source):\n",
    "  \n",
    "        # add non-SA things to dict\n",
    "        responses_dict['source'].append(source.strip())\n",
    "        responses_dict['date'].append(date.strip())\n",
    "        responses_dict['headline'].append(head_text.strip())\n",
    "        responses_dict['url'].append(url)\n",
    "\n",
    "        # perform SA\n",
    "        response = sa_model(headline = head_text)\n",
    "\n",
    "        # # add SA results to dict\n",
    "        for lab, score in response.items():\n",
    "            responses_dict[lab].append(score)\n",
    "\n",
    "        # creating compound score from 'negative' and 'positive' and 'neutral' scores\n",
    "        if ('negative' and 'positive' and 'neutral') in labels:\n",
    "            compound = (responses_dict['positive'][-1] - responses_dict['negative'][-1]) * (1 - responses_dict['neutral'][-1])\n",
    "            responses_dict['compound'].append(compound)\n",
    "            # responses_dict['chosen_label_val'].append(compound) # redundant but conceptually correct\n",
    "\n",
    "            # creating SA labels from compound score (a bit more robust than model's labels)\n",
    "            if compound >= 0.1:\n",
    "                responses_dict['chosen_label'].append(\"positive\")\n",
    "            elif compound <= -0.1:\n",
    "                # responses_dict['chosen_label_val'].append(\"negative\")\n",
    "                responses_dict['chosen_label'].append('negative')\n",
    "            else:\n",
    "                responses_dict['chosen_label'].append(\"neutral\")\n",
    "\n",
    "        # if no pos + neg, just use model's labels\n",
    "        else:\n",
    "            # responses_dict['chosen_label_val'].append(response['scores'][0])\n",
    "            responses_dict['chosen_label'].append(response['labels'][0])\n",
    "\n",
    "    return responses_dict\n",
    "\n",
    "# labels = ['positive', 'negative', 'neutral']\n",
    "# news_source = \"Global\"\n",
    "\n",
    "# sa_results = SA_headlines(headlines_urls = headlines, labels = labels, source = news_source)"
   ]
  },
  {
   "cell_type": "markdown",
   "metadata": {},
   "source": [
    "# Testing Pipeline on all 3 Sources"
   ]
  },
  {
   "cell_type": "code",
   "execution_count": 159,
   "metadata": {},
   "outputs": [
    {
     "name": "stderr",
     "output_type": "stream",
     "text": [
      "Global: 100%|██████████| 34/34 [00:01<00:00, 24.33it/s]\n",
      "CTV: 100%|██████████| 94/94 [00:03<00:00, 25.53it/s]\n",
      "CBC: 100%|██████████| 34/34 [00:01<00:00, 23.90it/s]\n"
     ]
    }
   ],
   "source": [
    "# all respective sources and headlines\n",
    "sources_headlines = [\n",
    "    (\"Global\", global_headlines),\n",
    "    ('CTV', ctv_headlines),\n",
    "    ('CBC', cbc_headlines)\n",
    "]\n",
    "\n",
    "master_results = {}\n",
    "\n",
    "for source, headlines in sources_headlines:\n",
    "\n",
    "    # make sure both are not None -- there could be some scraping error and return empty headlines\n",
    "    if (source and headlines):\n",
    "\n",
    "        # sa_results = SA_headlines(headlines_urls = headlines, labels = labels, source = source)\n",
    "        sa_results = sa_headlines(headlines_urls = headlines, source = source)\n",
    "\n",
    "        # just overwrite the whole dict with the first results\n",
    "        if not master_results:\n",
    "            master_results = sa_results\n",
    "\n",
    "        # afterwards, add everything to each list\n",
    "        else:\n",
    "            for key, val in sa_results.items():\n",
    "                master_results[key].extend(val)"
   ]
  },
  {
   "cell_type": "code",
   "execution_count": 161,
   "metadata": {},
   "outputs": [
    {
     "data": {
      "text/html": [
       "<div>\n",
       "<style scoped>\n",
       "    .dataframe tbody tr th:only-of-type {\n",
       "        vertical-align: middle;\n",
       "    }\n",
       "\n",
       "    .dataframe tbody tr th {\n",
       "        vertical-align: top;\n",
       "    }\n",
       "\n",
       "    .dataframe thead th {\n",
       "        text-align: right;\n",
       "    }\n",
       "</style>\n",
       "<table border=\"1\" class=\"dataframe\">\n",
       "  <thead>\n",
       "    <tr style=\"text-align: right;\">\n",
       "      <th></th>\n",
       "      <th>date</th>\n",
       "      <th>source</th>\n",
       "      <th>positive</th>\n",
       "      <th>negative</th>\n",
       "      <th>neutral</th>\n",
       "      <th>compound</th>\n",
       "      <th>chosen_label</th>\n",
       "    </tr>\n",
       "  </thead>\n",
       "  <tbody>\n",
       "    <tr>\n",
       "      <th>0</th>\n",
       "      <td>2023-08-16</td>\n",
       "      <td>CBC</td>\n",
       "      <td>0.067274</td>\n",
       "      <td>0.314027</td>\n",
       "      <td>0.618699</td>\n",
       "      <td>-0.165573</td>\n",
       "      <td>negative</td>\n",
       "    </tr>\n",
       "    <tr>\n",
       "      <th>1</th>\n",
       "      <td>2023-08-16</td>\n",
       "      <td>CTV</td>\n",
       "      <td>0.069451</td>\n",
       "      <td>0.393609</td>\n",
       "      <td>0.536940</td>\n",
       "      <td>-0.202504</td>\n",
       "      <td>negative</td>\n",
       "    </tr>\n",
       "    <tr>\n",
       "      <th>2</th>\n",
       "      <td>2023-08-16</td>\n",
       "      <td>Global</td>\n",
       "      <td>0.100900</td>\n",
       "      <td>0.280214</td>\n",
       "      <td>0.618886</td>\n",
       "      <td>-0.109817</td>\n",
       "      <td>negative</td>\n",
       "    </tr>\n",
       "  </tbody>\n",
       "</table>\n",
       "</div>"
      ],
      "text/plain": [
       "         date  source  positive  negative   neutral  compound chosen_label\n",
       "0  2023-08-16     CBC  0.067274  0.314027  0.618699 -0.165573     negative\n",
       "1  2023-08-16     CTV  0.069451  0.393609  0.536940 -0.202504     negative\n",
       "2  2023-08-16  Global  0.100900  0.280214  0.618886 -0.109817     negative"
      ]
     },
     "execution_count": 161,
     "metadata": {},
     "output_type": "execute_result"
    }
   ],
   "source": [
    "master_df = pd.DataFrame(master_results)\n",
    "\n",
    "### WRITING DAILY DF TO CSV\n",
    "master_df.to_csv(f\"../data/{get_today_iso()}_SA_full.csv\", index = False)\n",
    "\n",
    "grouped_df = master_df.groupby(['date', 'source']).mean(numeric_only = True).reset_index()\n",
    "new_labs = []\n",
    "\n",
    "for row in grouped_df.index:\n",
    "    val = grouped_df.loc[row, 'compound']\n",
    "\n",
    "    if val >= 0.05:\n",
    "        new_labs.append('positive')\n",
    "    elif val <= -0.05:\n",
    "        new_labs.append('negative')\n",
    "    else:\n",
    "        new_labs.append('neutral')\n",
    "\n",
    "grouped_df['chosen_label'] = new_labs\n",
    "grouped_df.to_csv(f\"../data/{get_today_iso()}_SA_grouped.csv\", index = False)\n",
    "grouped_df"
   ]
  },
  {
   "cell_type": "markdown",
   "metadata": {},
   "source": [
    "# Plotting Results"
   ]
  },
  {
   "cell_type": "code",
   "execution_count": 163,
   "metadata": {},
   "outputs": [
    {
     "data": {
      "application/vnd.plotly.v1+json": {
       "config": {
        "plotlyServerURL": "https://plot.ly"
       },
       "data": [
        {
         "hovertemplate": "source=CBC<br>date=%{x}<br>compound=%{y}<extra></extra>",
         "legendgroup": "CBC",
         "line": {
          "color": "#636efa",
          "dash": "solid"
         },
         "marker": {
          "symbol": "circle"
         },
         "mode": "lines+markers",
         "name": "CBC",
         "orientation": "v",
         "showlegend": true,
         "type": "scatter",
         "x": [
          "2023-08-16"
         ],
         "xaxis": "x",
         "y": [
          -0.16557261128322975
         ],
         "yaxis": "y"
        },
        {
         "hovertemplate": "source=CTV<br>date=%{x}<br>compound=%{y}<extra></extra>",
         "legendgroup": "CTV",
         "line": {
          "color": "#EF553B",
          "dash": "solid"
         },
         "marker": {
          "symbol": "circle"
         },
         "mode": "lines+markers",
         "name": "CTV",
         "orientation": "v",
         "showlegend": true,
         "type": "scatter",
         "x": [
          "2023-08-16"
         ],
         "xaxis": "x",
         "y": [
          -0.20250386326893494
         ],
         "yaxis": "y"
        },
        {
         "hovertemplate": "source=Global<br>date=%{x}<br>compound=%{y}<extra></extra>",
         "legendgroup": "Global",
         "line": {
          "color": "#00cc96",
          "dash": "solid"
         },
         "marker": {
          "symbol": "circle"
         },
         "mode": "lines+markers",
         "name": "Global",
         "orientation": "v",
         "showlegend": true,
         "type": "scatter",
         "x": [
          "2023-08-16"
         ],
         "xaxis": "x",
         "y": [
          -0.10981682088711206
         ],
         "yaxis": "y"
        }
       ],
       "layout": {
        "legend": {
         "title": {
          "text": "source"
         },
         "tracegroupgap": 0
        },
        "template": {
         "data": {
          "bar": [
           {
            "error_x": {
             "color": "#2a3f5f"
            },
            "error_y": {
             "color": "#2a3f5f"
            },
            "marker": {
             "line": {
              "color": "#E5ECF6",
              "width": 0.5
             },
             "pattern": {
              "fillmode": "overlay",
              "size": 10,
              "solidity": 0.2
             }
            },
            "type": "bar"
           }
          ],
          "barpolar": [
           {
            "marker": {
             "line": {
              "color": "#E5ECF6",
              "width": 0.5
             },
             "pattern": {
              "fillmode": "overlay",
              "size": 10,
              "solidity": 0.2
             }
            },
            "type": "barpolar"
           }
          ],
          "carpet": [
           {
            "aaxis": {
             "endlinecolor": "#2a3f5f",
             "gridcolor": "white",
             "linecolor": "white",
             "minorgridcolor": "white",
             "startlinecolor": "#2a3f5f"
            },
            "baxis": {
             "endlinecolor": "#2a3f5f",
             "gridcolor": "white",
             "linecolor": "white",
             "minorgridcolor": "white",
             "startlinecolor": "#2a3f5f"
            },
            "type": "carpet"
           }
          ],
          "choropleth": [
           {
            "colorbar": {
             "outlinewidth": 0,
             "ticks": ""
            },
            "type": "choropleth"
           }
          ],
          "contour": [
           {
            "colorbar": {
             "outlinewidth": 0,
             "ticks": ""
            },
            "colorscale": [
             [
              0,
              "#0d0887"
             ],
             [
              0.1111111111111111,
              "#46039f"
             ],
             [
              0.2222222222222222,
              "#7201a8"
             ],
             [
              0.3333333333333333,
              "#9c179e"
             ],
             [
              0.4444444444444444,
              "#bd3786"
             ],
             [
              0.5555555555555556,
              "#d8576b"
             ],
             [
              0.6666666666666666,
              "#ed7953"
             ],
             [
              0.7777777777777778,
              "#fb9f3a"
             ],
             [
              0.8888888888888888,
              "#fdca26"
             ],
             [
              1,
              "#f0f921"
             ]
            ],
            "type": "contour"
           }
          ],
          "contourcarpet": [
           {
            "colorbar": {
             "outlinewidth": 0,
             "ticks": ""
            },
            "type": "contourcarpet"
           }
          ],
          "heatmap": [
           {
            "colorbar": {
             "outlinewidth": 0,
             "ticks": ""
            },
            "colorscale": [
             [
              0,
              "#0d0887"
             ],
             [
              0.1111111111111111,
              "#46039f"
             ],
             [
              0.2222222222222222,
              "#7201a8"
             ],
             [
              0.3333333333333333,
              "#9c179e"
             ],
             [
              0.4444444444444444,
              "#bd3786"
             ],
             [
              0.5555555555555556,
              "#d8576b"
             ],
             [
              0.6666666666666666,
              "#ed7953"
             ],
             [
              0.7777777777777778,
              "#fb9f3a"
             ],
             [
              0.8888888888888888,
              "#fdca26"
             ],
             [
              1,
              "#f0f921"
             ]
            ],
            "type": "heatmap"
           }
          ],
          "heatmapgl": [
           {
            "colorbar": {
             "outlinewidth": 0,
             "ticks": ""
            },
            "colorscale": [
             [
              0,
              "#0d0887"
             ],
             [
              0.1111111111111111,
              "#46039f"
             ],
             [
              0.2222222222222222,
              "#7201a8"
             ],
             [
              0.3333333333333333,
              "#9c179e"
             ],
             [
              0.4444444444444444,
              "#bd3786"
             ],
             [
              0.5555555555555556,
              "#d8576b"
             ],
             [
              0.6666666666666666,
              "#ed7953"
             ],
             [
              0.7777777777777778,
              "#fb9f3a"
             ],
             [
              0.8888888888888888,
              "#fdca26"
             ],
             [
              1,
              "#f0f921"
             ]
            ],
            "type": "heatmapgl"
           }
          ],
          "histogram": [
           {
            "marker": {
             "pattern": {
              "fillmode": "overlay",
              "size": 10,
              "solidity": 0.2
             }
            },
            "type": "histogram"
           }
          ],
          "histogram2d": [
           {
            "colorbar": {
             "outlinewidth": 0,
             "ticks": ""
            },
            "colorscale": [
             [
              0,
              "#0d0887"
             ],
             [
              0.1111111111111111,
              "#46039f"
             ],
             [
              0.2222222222222222,
              "#7201a8"
             ],
             [
              0.3333333333333333,
              "#9c179e"
             ],
             [
              0.4444444444444444,
              "#bd3786"
             ],
             [
              0.5555555555555556,
              "#d8576b"
             ],
             [
              0.6666666666666666,
              "#ed7953"
             ],
             [
              0.7777777777777778,
              "#fb9f3a"
             ],
             [
              0.8888888888888888,
              "#fdca26"
             ],
             [
              1,
              "#f0f921"
             ]
            ],
            "type": "histogram2d"
           }
          ],
          "histogram2dcontour": [
           {
            "colorbar": {
             "outlinewidth": 0,
             "ticks": ""
            },
            "colorscale": [
             [
              0,
              "#0d0887"
             ],
             [
              0.1111111111111111,
              "#46039f"
             ],
             [
              0.2222222222222222,
              "#7201a8"
             ],
             [
              0.3333333333333333,
              "#9c179e"
             ],
             [
              0.4444444444444444,
              "#bd3786"
             ],
             [
              0.5555555555555556,
              "#d8576b"
             ],
             [
              0.6666666666666666,
              "#ed7953"
             ],
             [
              0.7777777777777778,
              "#fb9f3a"
             ],
             [
              0.8888888888888888,
              "#fdca26"
             ],
             [
              1,
              "#f0f921"
             ]
            ],
            "type": "histogram2dcontour"
           }
          ],
          "mesh3d": [
           {
            "colorbar": {
             "outlinewidth": 0,
             "ticks": ""
            },
            "type": "mesh3d"
           }
          ],
          "parcoords": [
           {
            "line": {
             "colorbar": {
              "outlinewidth": 0,
              "ticks": ""
             }
            },
            "type": "parcoords"
           }
          ],
          "pie": [
           {
            "automargin": true,
            "type": "pie"
           }
          ],
          "scatter": [
           {
            "fillpattern": {
             "fillmode": "overlay",
             "size": 10,
             "solidity": 0.2
            },
            "type": "scatter"
           }
          ],
          "scatter3d": [
           {
            "line": {
             "colorbar": {
              "outlinewidth": 0,
              "ticks": ""
             }
            },
            "marker": {
             "colorbar": {
              "outlinewidth": 0,
              "ticks": ""
             }
            },
            "type": "scatter3d"
           }
          ],
          "scattercarpet": [
           {
            "marker": {
             "colorbar": {
              "outlinewidth": 0,
              "ticks": ""
             }
            },
            "type": "scattercarpet"
           }
          ],
          "scattergeo": [
           {
            "marker": {
             "colorbar": {
              "outlinewidth": 0,
              "ticks": ""
             }
            },
            "type": "scattergeo"
           }
          ],
          "scattergl": [
           {
            "marker": {
             "colorbar": {
              "outlinewidth": 0,
              "ticks": ""
             }
            },
            "type": "scattergl"
           }
          ],
          "scattermapbox": [
           {
            "marker": {
             "colorbar": {
              "outlinewidth": 0,
              "ticks": ""
             }
            },
            "type": "scattermapbox"
           }
          ],
          "scatterpolar": [
           {
            "marker": {
             "colorbar": {
              "outlinewidth": 0,
              "ticks": ""
             }
            },
            "type": "scatterpolar"
           }
          ],
          "scatterpolargl": [
           {
            "marker": {
             "colorbar": {
              "outlinewidth": 0,
              "ticks": ""
             }
            },
            "type": "scatterpolargl"
           }
          ],
          "scatterternary": [
           {
            "marker": {
             "colorbar": {
              "outlinewidth": 0,
              "ticks": ""
             }
            },
            "type": "scatterternary"
           }
          ],
          "surface": [
           {
            "colorbar": {
             "outlinewidth": 0,
             "ticks": ""
            },
            "colorscale": [
             [
              0,
              "#0d0887"
             ],
             [
              0.1111111111111111,
              "#46039f"
             ],
             [
              0.2222222222222222,
              "#7201a8"
             ],
             [
              0.3333333333333333,
              "#9c179e"
             ],
             [
              0.4444444444444444,
              "#bd3786"
             ],
             [
              0.5555555555555556,
              "#d8576b"
             ],
             [
              0.6666666666666666,
              "#ed7953"
             ],
             [
              0.7777777777777778,
              "#fb9f3a"
             ],
             [
              0.8888888888888888,
              "#fdca26"
             ],
             [
              1,
              "#f0f921"
             ]
            ],
            "type": "surface"
           }
          ],
          "table": [
           {
            "cells": {
             "fill": {
              "color": "#EBF0F8"
             },
             "line": {
              "color": "white"
             }
            },
            "header": {
             "fill": {
              "color": "#C8D4E3"
             },
             "line": {
              "color": "white"
             }
            },
            "type": "table"
           }
          ]
         },
         "layout": {
          "annotationdefaults": {
           "arrowcolor": "#2a3f5f",
           "arrowhead": 0,
           "arrowwidth": 1
          },
          "autotypenumbers": "strict",
          "coloraxis": {
           "colorbar": {
            "outlinewidth": 0,
            "ticks": ""
           }
          },
          "colorscale": {
           "diverging": [
            [
             0,
             "#8e0152"
            ],
            [
             0.1,
             "#c51b7d"
            ],
            [
             0.2,
             "#de77ae"
            ],
            [
             0.3,
             "#f1b6da"
            ],
            [
             0.4,
             "#fde0ef"
            ],
            [
             0.5,
             "#f7f7f7"
            ],
            [
             0.6,
             "#e6f5d0"
            ],
            [
             0.7,
             "#b8e186"
            ],
            [
             0.8,
             "#7fbc41"
            ],
            [
             0.9,
             "#4d9221"
            ],
            [
             1,
             "#276419"
            ]
           ],
           "sequential": [
            [
             0,
             "#0d0887"
            ],
            [
             0.1111111111111111,
             "#46039f"
            ],
            [
             0.2222222222222222,
             "#7201a8"
            ],
            [
             0.3333333333333333,
             "#9c179e"
            ],
            [
             0.4444444444444444,
             "#bd3786"
            ],
            [
             0.5555555555555556,
             "#d8576b"
            ],
            [
             0.6666666666666666,
             "#ed7953"
            ],
            [
             0.7777777777777778,
             "#fb9f3a"
            ],
            [
             0.8888888888888888,
             "#fdca26"
            ],
            [
             1,
             "#f0f921"
            ]
           ],
           "sequentialminus": [
            [
             0,
             "#0d0887"
            ],
            [
             0.1111111111111111,
             "#46039f"
            ],
            [
             0.2222222222222222,
             "#7201a8"
            ],
            [
             0.3333333333333333,
             "#9c179e"
            ],
            [
             0.4444444444444444,
             "#bd3786"
            ],
            [
             0.5555555555555556,
             "#d8576b"
            ],
            [
             0.6666666666666666,
             "#ed7953"
            ],
            [
             0.7777777777777778,
             "#fb9f3a"
            ],
            [
             0.8888888888888888,
             "#fdca26"
            ],
            [
             1,
             "#f0f921"
            ]
           ]
          },
          "colorway": [
           "#636efa",
           "#EF553B",
           "#00cc96",
           "#ab63fa",
           "#FFA15A",
           "#19d3f3",
           "#FF6692",
           "#B6E880",
           "#FF97FF",
           "#FECB52"
          ],
          "font": {
           "color": "#2a3f5f"
          },
          "geo": {
           "bgcolor": "white",
           "lakecolor": "white",
           "landcolor": "#E5ECF6",
           "showlakes": true,
           "showland": true,
           "subunitcolor": "white"
          },
          "hoverlabel": {
           "align": "left"
          },
          "hovermode": "closest",
          "mapbox": {
           "style": "light"
          },
          "paper_bgcolor": "white",
          "plot_bgcolor": "#E5ECF6",
          "polar": {
           "angularaxis": {
            "gridcolor": "white",
            "linecolor": "white",
            "ticks": ""
           },
           "bgcolor": "#E5ECF6",
           "radialaxis": {
            "gridcolor": "white",
            "linecolor": "white",
            "ticks": ""
           }
          },
          "scene": {
           "xaxis": {
            "backgroundcolor": "#E5ECF6",
            "gridcolor": "white",
            "gridwidth": 2,
            "linecolor": "white",
            "showbackground": true,
            "ticks": "",
            "zerolinecolor": "white"
           },
           "yaxis": {
            "backgroundcolor": "#E5ECF6",
            "gridcolor": "white",
            "gridwidth": 2,
            "linecolor": "white",
            "showbackground": true,
            "ticks": "",
            "zerolinecolor": "white"
           },
           "zaxis": {
            "backgroundcolor": "#E5ECF6",
            "gridcolor": "white",
            "gridwidth": 2,
            "linecolor": "white",
            "showbackground": true,
            "ticks": "",
            "zerolinecolor": "white"
           }
          },
          "shapedefaults": {
           "line": {
            "color": "#2a3f5f"
           }
          },
          "ternary": {
           "aaxis": {
            "gridcolor": "white",
            "linecolor": "white",
            "ticks": ""
           },
           "baxis": {
            "gridcolor": "white",
            "linecolor": "white",
            "ticks": ""
           },
           "bgcolor": "#E5ECF6",
           "caxis": {
            "gridcolor": "white",
            "linecolor": "white",
            "ticks": ""
           }
          },
          "title": {
           "x": 0.05
          },
          "xaxis": {
           "automargin": true,
           "gridcolor": "white",
           "linecolor": "white",
           "ticks": "",
           "title": {
            "standoff": 15
           },
           "zerolinecolor": "white",
           "zerolinewidth": 2
          },
          "yaxis": {
           "automargin": true,
           "gridcolor": "white",
           "linecolor": "white",
           "ticks": "",
           "title": {
            "standoff": 15
           },
           "zerolinecolor": "white",
           "zerolinewidth": 2
          }
         }
        },
        "title": {
         "text": "Sentiment of Canadian News Outlets Over Time"
        },
        "xaxis": {
         "anchor": "y",
         "domain": [
          0,
          1
         ],
         "title": {
          "text": "Date"
         }
        },
        "yaxis": {
         "anchor": "x",
         "domain": [
          0,
          1
         ],
         "title": {
          "text": "Sentiment Valence"
         }
        }
       }
      }
     },
     "metadata": {},
     "output_type": "display_data"
    }
   ],
   "source": [
    "import plotly.express as px\n",
    "\n",
    "fig = px.line(grouped_df, x = 'date', y = 'compound', color = 'source', title = \"Sentiment Valence over Time\", markers = True)\n",
    "fig.update_layout(\n",
    "    title = \"Sentiment of Canadian News Outlets Over Time\",\n",
    "    xaxis_title = \"Date\",\n",
    "    yaxis_title = \"Sentiment Valence\"\n",
    ")\n",
    "\n",
    "fig.show()"
   ]
  },
  {
   "cell_type": "code",
   "execution_count": 164,
   "metadata": {},
   "outputs": [
    {
     "data": {
      "application/vnd.plotly.v1+json": {
       "config": {
        "plotlyServerURL": "https://plot.ly"
       },
       "data": [
        {
         "hovertemplate": "source=CBC<br>date=%{x}<br>compound=%{y}<extra></extra>",
         "legendgroup": "CBC",
         "line": {
          "color": "#636efa",
          "dash": "solid"
         },
         "marker": {
          "symbol": "circle"
         },
         "mode": "lines+markers",
         "name": "CBC",
         "orientation": "v",
         "showlegend": true,
         "type": "scatter",
         "x": [
          "2023-08-16"
         ],
         "xaxis": "x",
         "y": [
          -0.16557261128322975
         ],
         "yaxis": "y"
        },
        {
         "hovertemplate": "source=CTV<br>date=%{x}<br>compound=%{y}<extra></extra>",
         "legendgroup": "CTV",
         "line": {
          "color": "#EF553B",
          "dash": "solid"
         },
         "marker": {
          "symbol": "circle"
         },
         "mode": "lines+markers",
         "name": "CTV",
         "orientation": "v",
         "showlegend": true,
         "type": "scatter",
         "x": [
          "2023-08-16"
         ],
         "xaxis": "x",
         "y": [
          -0.20250386326893494
         ],
         "yaxis": "y"
        },
        {
         "hovertemplate": "source=Global<br>date=%{x}<br>compound=%{y}<extra></extra>",
         "legendgroup": "Global",
         "line": {
          "color": "#00cc96",
          "dash": "solid"
         },
         "marker": {
          "symbol": "circle"
         },
         "mode": "lines+markers",
         "name": "Global",
         "orientation": "v",
         "showlegend": true,
         "type": "scatter",
         "x": [
          "2023-08-16"
         ],
         "xaxis": "x",
         "y": [
          -0.10981682088711206
         ],
         "yaxis": "y"
        }
       ],
       "layout": {
        "legend": {
         "title": {
          "text": "source"
         },
         "tracegroupgap": 0
        },
        "template": {
         "data": {
          "bar": [
           {
            "error_x": {
             "color": "#2a3f5f"
            },
            "error_y": {
             "color": "#2a3f5f"
            },
            "marker": {
             "line": {
              "color": "#E5ECF6",
              "width": 0.5
             },
             "pattern": {
              "fillmode": "overlay",
              "size": 10,
              "solidity": 0.2
             }
            },
            "type": "bar"
           }
          ],
          "barpolar": [
           {
            "marker": {
             "line": {
              "color": "#E5ECF6",
              "width": 0.5
             },
             "pattern": {
              "fillmode": "overlay",
              "size": 10,
              "solidity": 0.2
             }
            },
            "type": "barpolar"
           }
          ],
          "carpet": [
           {
            "aaxis": {
             "endlinecolor": "#2a3f5f",
             "gridcolor": "white",
             "linecolor": "white",
             "minorgridcolor": "white",
             "startlinecolor": "#2a3f5f"
            },
            "baxis": {
             "endlinecolor": "#2a3f5f",
             "gridcolor": "white",
             "linecolor": "white",
             "minorgridcolor": "white",
             "startlinecolor": "#2a3f5f"
            },
            "type": "carpet"
           }
          ],
          "choropleth": [
           {
            "colorbar": {
             "outlinewidth": 0,
             "ticks": ""
            },
            "type": "choropleth"
           }
          ],
          "contour": [
           {
            "colorbar": {
             "outlinewidth": 0,
             "ticks": ""
            },
            "colorscale": [
             [
              0,
              "#0d0887"
             ],
             [
              0.1111111111111111,
              "#46039f"
             ],
             [
              0.2222222222222222,
              "#7201a8"
             ],
             [
              0.3333333333333333,
              "#9c179e"
             ],
             [
              0.4444444444444444,
              "#bd3786"
             ],
             [
              0.5555555555555556,
              "#d8576b"
             ],
             [
              0.6666666666666666,
              "#ed7953"
             ],
             [
              0.7777777777777778,
              "#fb9f3a"
             ],
             [
              0.8888888888888888,
              "#fdca26"
             ],
             [
              1,
              "#f0f921"
             ]
            ],
            "type": "contour"
           }
          ],
          "contourcarpet": [
           {
            "colorbar": {
             "outlinewidth": 0,
             "ticks": ""
            },
            "type": "contourcarpet"
           }
          ],
          "heatmap": [
           {
            "colorbar": {
             "outlinewidth": 0,
             "ticks": ""
            },
            "colorscale": [
             [
              0,
              "#0d0887"
             ],
             [
              0.1111111111111111,
              "#46039f"
             ],
             [
              0.2222222222222222,
              "#7201a8"
             ],
             [
              0.3333333333333333,
              "#9c179e"
             ],
             [
              0.4444444444444444,
              "#bd3786"
             ],
             [
              0.5555555555555556,
              "#d8576b"
             ],
             [
              0.6666666666666666,
              "#ed7953"
             ],
             [
              0.7777777777777778,
              "#fb9f3a"
             ],
             [
              0.8888888888888888,
              "#fdca26"
             ],
             [
              1,
              "#f0f921"
             ]
            ],
            "type": "heatmap"
           }
          ],
          "heatmapgl": [
           {
            "colorbar": {
             "outlinewidth": 0,
             "ticks": ""
            },
            "colorscale": [
             [
              0,
              "#0d0887"
             ],
             [
              0.1111111111111111,
              "#46039f"
             ],
             [
              0.2222222222222222,
              "#7201a8"
             ],
             [
              0.3333333333333333,
              "#9c179e"
             ],
             [
              0.4444444444444444,
              "#bd3786"
             ],
             [
              0.5555555555555556,
              "#d8576b"
             ],
             [
              0.6666666666666666,
              "#ed7953"
             ],
             [
              0.7777777777777778,
              "#fb9f3a"
             ],
             [
              0.8888888888888888,
              "#fdca26"
             ],
             [
              1,
              "#f0f921"
             ]
            ],
            "type": "heatmapgl"
           }
          ],
          "histogram": [
           {
            "marker": {
             "pattern": {
              "fillmode": "overlay",
              "size": 10,
              "solidity": 0.2
             }
            },
            "type": "histogram"
           }
          ],
          "histogram2d": [
           {
            "colorbar": {
             "outlinewidth": 0,
             "ticks": ""
            },
            "colorscale": [
             [
              0,
              "#0d0887"
             ],
             [
              0.1111111111111111,
              "#46039f"
             ],
             [
              0.2222222222222222,
              "#7201a8"
             ],
             [
              0.3333333333333333,
              "#9c179e"
             ],
             [
              0.4444444444444444,
              "#bd3786"
             ],
             [
              0.5555555555555556,
              "#d8576b"
             ],
             [
              0.6666666666666666,
              "#ed7953"
             ],
             [
              0.7777777777777778,
              "#fb9f3a"
             ],
             [
              0.8888888888888888,
              "#fdca26"
             ],
             [
              1,
              "#f0f921"
             ]
            ],
            "type": "histogram2d"
           }
          ],
          "histogram2dcontour": [
           {
            "colorbar": {
             "outlinewidth": 0,
             "ticks": ""
            },
            "colorscale": [
             [
              0,
              "#0d0887"
             ],
             [
              0.1111111111111111,
              "#46039f"
             ],
             [
              0.2222222222222222,
              "#7201a8"
             ],
             [
              0.3333333333333333,
              "#9c179e"
             ],
             [
              0.4444444444444444,
              "#bd3786"
             ],
             [
              0.5555555555555556,
              "#d8576b"
             ],
             [
              0.6666666666666666,
              "#ed7953"
             ],
             [
              0.7777777777777778,
              "#fb9f3a"
             ],
             [
              0.8888888888888888,
              "#fdca26"
             ],
             [
              1,
              "#f0f921"
             ]
            ],
            "type": "histogram2dcontour"
           }
          ],
          "mesh3d": [
           {
            "colorbar": {
             "outlinewidth": 0,
             "ticks": ""
            },
            "type": "mesh3d"
           }
          ],
          "parcoords": [
           {
            "line": {
             "colorbar": {
              "outlinewidth": 0,
              "ticks": ""
             }
            },
            "type": "parcoords"
           }
          ],
          "pie": [
           {
            "automargin": true,
            "type": "pie"
           }
          ],
          "scatter": [
           {
            "fillpattern": {
             "fillmode": "overlay",
             "size": 10,
             "solidity": 0.2
            },
            "type": "scatter"
           }
          ],
          "scatter3d": [
           {
            "line": {
             "colorbar": {
              "outlinewidth": 0,
              "ticks": ""
             }
            },
            "marker": {
             "colorbar": {
              "outlinewidth": 0,
              "ticks": ""
             }
            },
            "type": "scatter3d"
           }
          ],
          "scattercarpet": [
           {
            "marker": {
             "colorbar": {
              "outlinewidth": 0,
              "ticks": ""
             }
            },
            "type": "scattercarpet"
           }
          ],
          "scattergeo": [
           {
            "marker": {
             "colorbar": {
              "outlinewidth": 0,
              "ticks": ""
             }
            },
            "type": "scattergeo"
           }
          ],
          "scattergl": [
           {
            "marker": {
             "colorbar": {
              "outlinewidth": 0,
              "ticks": ""
             }
            },
            "type": "scattergl"
           }
          ],
          "scattermapbox": [
           {
            "marker": {
             "colorbar": {
              "outlinewidth": 0,
              "ticks": ""
             }
            },
            "type": "scattermapbox"
           }
          ],
          "scatterpolar": [
           {
            "marker": {
             "colorbar": {
              "outlinewidth": 0,
              "ticks": ""
             }
            },
            "type": "scatterpolar"
           }
          ],
          "scatterpolargl": [
           {
            "marker": {
             "colorbar": {
              "outlinewidth": 0,
              "ticks": ""
             }
            },
            "type": "scatterpolargl"
           }
          ],
          "scatterternary": [
           {
            "marker": {
             "colorbar": {
              "outlinewidth": 0,
              "ticks": ""
             }
            },
            "type": "scatterternary"
           }
          ],
          "surface": [
           {
            "colorbar": {
             "outlinewidth": 0,
             "ticks": ""
            },
            "colorscale": [
             [
              0,
              "#0d0887"
             ],
             [
              0.1111111111111111,
              "#46039f"
             ],
             [
              0.2222222222222222,
              "#7201a8"
             ],
             [
              0.3333333333333333,
              "#9c179e"
             ],
             [
              0.4444444444444444,
              "#bd3786"
             ],
             [
              0.5555555555555556,
              "#d8576b"
             ],
             [
              0.6666666666666666,
              "#ed7953"
             ],
             [
              0.7777777777777778,
              "#fb9f3a"
             ],
             [
              0.8888888888888888,
              "#fdca26"
             ],
             [
              1,
              "#f0f921"
             ]
            ],
            "type": "surface"
           }
          ],
          "table": [
           {
            "cells": {
             "fill": {
              "color": "#EBF0F8"
             },
             "line": {
              "color": "white"
             }
            },
            "header": {
             "fill": {
              "color": "#C8D4E3"
             },
             "line": {
              "color": "white"
             }
            },
            "type": "table"
           }
          ]
         },
         "layout": {
          "annotationdefaults": {
           "arrowcolor": "#2a3f5f",
           "arrowhead": 0,
           "arrowwidth": 1
          },
          "autotypenumbers": "strict",
          "coloraxis": {
           "colorbar": {
            "outlinewidth": 0,
            "ticks": ""
           }
          },
          "colorscale": {
           "diverging": [
            [
             0,
             "#8e0152"
            ],
            [
             0.1,
             "#c51b7d"
            ],
            [
             0.2,
             "#de77ae"
            ],
            [
             0.3,
             "#f1b6da"
            ],
            [
             0.4,
             "#fde0ef"
            ],
            [
             0.5,
             "#f7f7f7"
            ],
            [
             0.6,
             "#e6f5d0"
            ],
            [
             0.7,
             "#b8e186"
            ],
            [
             0.8,
             "#7fbc41"
            ],
            [
             0.9,
             "#4d9221"
            ],
            [
             1,
             "#276419"
            ]
           ],
           "sequential": [
            [
             0,
             "#0d0887"
            ],
            [
             0.1111111111111111,
             "#46039f"
            ],
            [
             0.2222222222222222,
             "#7201a8"
            ],
            [
             0.3333333333333333,
             "#9c179e"
            ],
            [
             0.4444444444444444,
             "#bd3786"
            ],
            [
             0.5555555555555556,
             "#d8576b"
            ],
            [
             0.6666666666666666,
             "#ed7953"
            ],
            [
             0.7777777777777778,
             "#fb9f3a"
            ],
            [
             0.8888888888888888,
             "#fdca26"
            ],
            [
             1,
             "#f0f921"
            ]
           ],
           "sequentialminus": [
            [
             0,
             "#0d0887"
            ],
            [
             0.1111111111111111,
             "#46039f"
            ],
            [
             0.2222222222222222,
             "#7201a8"
            ],
            [
             0.3333333333333333,
             "#9c179e"
            ],
            [
             0.4444444444444444,
             "#bd3786"
            ],
            [
             0.5555555555555556,
             "#d8576b"
            ],
            [
             0.6666666666666666,
             "#ed7953"
            ],
            [
             0.7777777777777778,
             "#fb9f3a"
            ],
            [
             0.8888888888888888,
             "#fdca26"
            ],
            [
             1,
             "#f0f921"
            ]
           ]
          },
          "colorway": [
           "#636efa",
           "#EF553B",
           "#00cc96",
           "#ab63fa",
           "#FFA15A",
           "#19d3f3",
           "#FF6692",
           "#B6E880",
           "#FF97FF",
           "#FECB52"
          ],
          "font": {
           "color": "#2a3f5f"
          },
          "geo": {
           "bgcolor": "white",
           "lakecolor": "white",
           "landcolor": "#E5ECF6",
           "showlakes": true,
           "showland": true,
           "subunitcolor": "white"
          },
          "hoverlabel": {
           "align": "left"
          },
          "hovermode": "closest",
          "mapbox": {
           "style": "light"
          },
          "paper_bgcolor": "white",
          "plot_bgcolor": "#E5ECF6",
          "polar": {
           "angularaxis": {
            "gridcolor": "white",
            "linecolor": "white",
            "ticks": ""
           },
           "bgcolor": "#E5ECF6",
           "radialaxis": {
            "gridcolor": "white",
            "linecolor": "white",
            "ticks": ""
           }
          },
          "scene": {
           "xaxis": {
            "backgroundcolor": "#E5ECF6",
            "gridcolor": "white",
            "gridwidth": 2,
            "linecolor": "white",
            "showbackground": true,
            "ticks": "",
            "zerolinecolor": "white"
           },
           "yaxis": {
            "backgroundcolor": "#E5ECF6",
            "gridcolor": "white",
            "gridwidth": 2,
            "linecolor": "white",
            "showbackground": true,
            "ticks": "",
            "zerolinecolor": "white"
           },
           "zaxis": {
            "backgroundcolor": "#E5ECF6",
            "gridcolor": "white",
            "gridwidth": 2,
            "linecolor": "white",
            "showbackground": true,
            "ticks": "",
            "zerolinecolor": "white"
           }
          },
          "shapedefaults": {
           "line": {
            "color": "#2a3f5f"
           }
          },
          "ternary": {
           "aaxis": {
            "gridcolor": "white",
            "linecolor": "white",
            "ticks": ""
           },
           "baxis": {
            "gridcolor": "white",
            "linecolor": "white",
            "ticks": ""
           },
           "bgcolor": "#E5ECF6",
           "caxis": {
            "gridcolor": "white",
            "linecolor": "white",
            "ticks": ""
           }
          },
          "title": {
           "x": 0.05
          },
          "xaxis": {
           "automargin": true,
           "gridcolor": "white",
           "linecolor": "white",
           "ticks": "",
           "title": {
            "standoff": 15
           },
           "zerolinecolor": "white",
           "zerolinewidth": 2
          },
          "yaxis": {
           "automargin": true,
           "gridcolor": "white",
           "linecolor": "white",
           "ticks": "",
           "title": {
            "standoff": 15
           },
           "zerolinecolor": "white",
           "zerolinewidth": 2
          }
         }
        },
        "title": {
         "text": "Sentiment of Canadian News Outlets Over Time"
        },
        "xaxis": {
         "anchor": "y",
         "domain": [
          0,
          1
         ],
         "title": {
          "text": "Date"
         }
        },
        "yaxis": {
         "anchor": "x",
         "domain": [
          0,
          1
         ],
         "title": {
          "text": "Sentiment Valence"
         }
        }
       }
      }
     },
     "metadata": {},
     "output_type": "display_data"
    }
   ],
   "source": [
    "import plotly.express as px\n",
    "\n",
    "fig = px.line(grouped_df, x = 'date', y = 'compound', color = 'source', title = \"Sentiment Valency over Time\", markers = True)\n",
    "fig.update_layout(\n",
    "    title = \"Sentiment of Canadian News Outlets Over Time\",\n",
    "    xaxis_title = \"Date\",\n",
    "    yaxis_title = \"Sentiment Valence\"\n",
    ")\n",
    "\n",
    "fig.show()"
   ]
  },
  {
   "cell_type": "markdown",
   "metadata": {},
   "source": [
    "## Plotting Multiple Days"
   ]
  },
  {
   "cell_type": "code",
   "execution_count": 165,
   "metadata": {},
   "outputs": [
    {
     "data": {
      "text/plain": [
       "['2023-08-16_SA_grouped.csv',\n",
       " '2023-08-16_SA_full.csv',\n",
       " '2023-08-15_SA_grouped.csv',\n",
       " '2023-08-15_SA_full.csv']"
      ]
     },
     "execution_count": 165,
     "metadata": {},
     "output_type": "execute_result"
    }
   ],
   "source": [
    "import os\n",
    "\n",
    "def find_csv_files(directory_path):\n",
    "    \"\"\"Returns a list of all .csv files in the given directory\"\"\"\n",
    "    return [file for file in os.listdir(directory_path) if file.endswith('.csv')]\n",
    "\n",
    "# Example usage\n",
    "directory_path = '../data/'  # current directory\n",
    "csv_files = find_csv_files(directory_path)\n",
    "most_recent_10_days = sorted(csv_files)[::-1][:20]\n",
    "most_recent_10_days"
   ]
  },
  {
   "cell_type": "code",
   "execution_count": 166,
   "metadata": {},
   "outputs": [
    {
     "data": {
      "text/html": [
       "<div>\n",
       "<style scoped>\n",
       "    .dataframe tbody tr th:only-of-type {\n",
       "        vertical-align: middle;\n",
       "    }\n",
       "\n",
       "    .dataframe tbody tr th {\n",
       "        vertical-align: top;\n",
       "    }\n",
       "\n",
       "    .dataframe thead th {\n",
       "        text-align: right;\n",
       "    }\n",
       "</style>\n",
       "<table border=\"1\" class=\"dataframe\">\n",
       "  <thead>\n",
       "    <tr style=\"text-align: right;\">\n",
       "      <th></th>\n",
       "      <th>date</th>\n",
       "      <th>source</th>\n",
       "      <th>positive</th>\n",
       "      <th>negative</th>\n",
       "      <th>neutral</th>\n",
       "      <th>compound</th>\n",
       "      <th>chosen_label</th>\n",
       "      <th>chosen_label_val</th>\n",
       "      <th>date_str</th>\n",
       "    </tr>\n",
       "  </thead>\n",
       "  <tbody>\n",
       "    <tr>\n",
       "      <th>0</th>\n",
       "      <td>2023-08-15</td>\n",
       "      <td>CBC</td>\n",
       "      <td>0.082955</td>\n",
       "      <td>0.296434</td>\n",
       "      <td>0.620611</td>\n",
       "      <td>-0.129276</td>\n",
       "      <td>positive</td>\n",
       "      <td>0.706347</td>\n",
       "      <td>Aug 15, 2023</td>\n",
       "    </tr>\n",
       "    <tr>\n",
       "      <th>1</th>\n",
       "      <td>2023-08-15</td>\n",
       "      <td>CTV</td>\n",
       "      <td>0.082049</td>\n",
       "      <td>0.378050</td>\n",
       "      <td>0.539901</td>\n",
       "      <td>-0.191215</td>\n",
       "      <td>positive</td>\n",
       "      <td>0.690778</td>\n",
       "      <td>Aug 15, 2023</td>\n",
       "    </tr>\n",
       "    <tr>\n",
       "      <th>2</th>\n",
       "      <td>2023-08-15</td>\n",
       "      <td>Global</td>\n",
       "      <td>0.088390</td>\n",
       "      <td>0.326688</td>\n",
       "      <td>0.584922</td>\n",
       "      <td>-0.164836</td>\n",
       "      <td>positive</td>\n",
       "      <td>0.763416</td>\n",
       "      <td>Aug 15, 2023</td>\n",
       "    </tr>\n",
       "    <tr>\n",
       "      <th>3</th>\n",
       "      <td>2023-08-16</td>\n",
       "      <td>CBC</td>\n",
       "      <td>0.067274</td>\n",
       "      <td>0.314027</td>\n",
       "      <td>0.618699</td>\n",
       "      <td>-0.165573</td>\n",
       "      <td>negative</td>\n",
       "      <td>NaN</td>\n",
       "      <td>Aug 16, 2023</td>\n",
       "    </tr>\n",
       "    <tr>\n",
       "      <th>4</th>\n",
       "      <td>2023-08-16</td>\n",
       "      <td>CTV</td>\n",
       "      <td>0.069451</td>\n",
       "      <td>0.393609</td>\n",
       "      <td>0.536940</td>\n",
       "      <td>-0.202504</td>\n",
       "      <td>negative</td>\n",
       "      <td>NaN</td>\n",
       "      <td>Aug 16, 2023</td>\n",
       "    </tr>\n",
       "    <tr>\n",
       "      <th>5</th>\n",
       "      <td>2023-08-16</td>\n",
       "      <td>Global</td>\n",
       "      <td>0.100900</td>\n",
       "      <td>0.280214</td>\n",
       "      <td>0.618886</td>\n",
       "      <td>-0.109817</td>\n",
       "      <td>negative</td>\n",
       "      <td>NaN</td>\n",
       "      <td>Aug 16, 2023</td>\n",
       "    </tr>\n",
       "  </tbody>\n",
       "</table>\n",
       "</div>"
      ],
      "text/plain": [
       "         date  source  positive  negative   neutral  compound chosen_label  \\\n",
       "0  2023-08-15     CBC  0.082955  0.296434  0.620611 -0.129276     positive   \n",
       "1  2023-08-15     CTV  0.082049  0.378050  0.539901 -0.191215     positive   \n",
       "2  2023-08-15  Global  0.088390  0.326688  0.584922 -0.164836     positive   \n",
       "3  2023-08-16     CBC  0.067274  0.314027  0.618699 -0.165573     negative   \n",
       "4  2023-08-16     CTV  0.069451  0.393609  0.536940 -0.202504     negative   \n",
       "5  2023-08-16  Global  0.100900  0.280214  0.618886 -0.109817     negative   \n",
       "\n",
       "   chosen_label_val      date_str  \n",
       "0          0.706347  Aug 15, 2023  \n",
       "1          0.690778  Aug 15, 2023  \n",
       "2          0.763416  Aug 15, 2023  \n",
       "3               NaN  Aug 16, 2023  \n",
       "4               NaN  Aug 16, 2023  \n",
       "5               NaN  Aug 16, 2023  "
      ]
     },
     "execution_count": 166,
     "metadata": {},
     "output_type": "execute_result"
    }
   ],
   "source": [
    "grouped_dfs = []\n",
    "full_dfs = []\n",
    "\n",
    "for fpath in most_recent_10_days:\n",
    "    df = pd.read_csv('../data/' + fpath)\n",
    "\n",
    "    # grouped dfs\n",
    "    if \"grouped\" in fpath:\n",
    "        grouped_dfs.append(df)\n",
    "\n",
    "    # full dfs\n",
    "    else:\n",
    "        full_dfs.append(df)\n",
    "\n",
    "grouped_df_10 = pd.concat(grouped_dfs, axis = 0, ignore_index = True).sort_values(by = 'date', ascending = True).reset_index(drop = True)\n",
    "grouped_df_10['date_str'] = grouped_df_10['date'].apply(lambda x: get_date_str(x))\n",
    "grouped_df_10"
   ]
  },
  {
   "cell_type": "code",
   "execution_count": 105,
   "metadata": {},
   "outputs": [
    {
     "data": {
      "text/html": [
       "<div>\n",
       "<style scoped>\n",
       "    .dataframe tbody tr th:only-of-type {\n",
       "        vertical-align: middle;\n",
       "    }\n",
       "\n",
       "    .dataframe tbody tr th {\n",
       "        vertical-align: top;\n",
       "    }\n",
       "\n",
       "    .dataframe thead th {\n",
       "        text-align: right;\n",
       "    }\n",
       "</style>\n",
       "<table border=\"1\" class=\"dataframe\">\n",
       "  <thead>\n",
       "    <tr style=\"text-align: right;\">\n",
       "      <th></th>\n",
       "      <th>source</th>\n",
       "      <th>date</th>\n",
       "      <th>headline</th>\n",
       "      <th>url</th>\n",
       "      <th>chosen_label</th>\n",
       "      <th>chosen_label_val</th>\n",
       "      <th>positive</th>\n",
       "      <th>negative</th>\n",
       "      <th>neutral</th>\n",
       "      <th>compound</th>\n",
       "      <th>date_str</th>\n",
       "    </tr>\n",
       "  </thead>\n",
       "  <tbody>\n",
       "    <tr>\n",
       "      <th>0</th>\n",
       "      <td>Global</td>\n",
       "      <td>2023-08-15</td>\n",
       "      <td>Why inflation’s latest jump is bad news for th...</td>\n",
       "      <td>https://globalnews.ca/news/9896838/inflation-r...</td>\n",
       "      <td>negative</td>\n",
       "      <td>-0.991469</td>\n",
       "      <td>0.002038</td>\n",
       "      <td>0.995727</td>\n",
       "      <td>0.002235</td>\n",
       "      <td>-0.991469</td>\n",
       "      <td>Aug 15, 2023</td>\n",
       "    </tr>\n",
       "  </tbody>\n",
       "</table>\n",
       "</div>"
      ],
      "text/plain": [
       "   source        date                                           headline  \\\n",
       "0  Global  2023-08-15  Why inflation’s latest jump is bad news for th...   \n",
       "\n",
       "                                                 url chosen_label  \\\n",
       "0  https://globalnews.ca/news/9896838/inflation-r...     negative   \n",
       "\n",
       "   chosen_label_val  positive  negative   neutral  compound      date_str  \n",
       "0         -0.991469  0.002038  0.995727  0.002235 -0.991469  Aug 15, 2023  "
      ]
     },
     "execution_count": 105,
     "metadata": {},
     "output_type": "execute_result"
    }
   ],
   "source": [
    "full_df_10 = pd.concat(full_dfs, axis = 0, ignore_index = True).sort_values(by = 'date', ascending = True).reset_index(drop = True)\n",
    "full_df_10['date_str'] = full_df_10['date'].apply(lambda x: get_date_str(x))\n",
    "full_df_10.head(1)#['headline'].tolist()"
   ]
  },
  {
   "cell_type": "code",
   "execution_count": 106,
   "metadata": {},
   "outputs": [
    {
     "data": {
      "text/plain": [
       "[\"Will electrifying cars and home heating break Canada's grid?\",\n",
       " '‘Lucky she could escape’: Multiple fire code violations found after fire gutted St. Thomas apartment',\n",
       " '‘We’re blessed’: Canadian business owner living in Hawaii feels grief, gratitude']"
      ]
     },
     "execution_count": 106,
     "metadata": {},
     "output_type": "execute_result"
    }
   ],
   "source": [
    "full_df_10.groupby(['source']).max()['headline'].tolist()"
   ]
  },
  {
   "cell_type": "markdown",
   "metadata": {},
   "source": [
    "## Plotting All Grouped"
   ]
  },
  {
   "cell_type": "code",
   "execution_count": 107,
   "metadata": {},
   "outputs": [
    {
     "data": {
      "application/vnd.plotly.v1+json": {
       "config": {
        "plotlyServerURL": "https://plot.ly"
       },
       "data": [
        {
         "hovertemplate": "source=CBC<br>date_str=%{x}<br>chosen_label_val=%{y}<extra></extra>",
         "legendgroup": "CBC",
         "line": {
          "color": "#636efa",
          "dash": "solid"
         },
         "marker": {
          "symbol": "circle"
         },
         "mode": "lines+markers",
         "name": "CBC",
         "orientation": "v",
         "showlegend": true,
         "type": "scatter",
         "x": [
          "Aug 15, 2023",
          "Aug 16, 2023"
         ],
         "xaxis": "x",
         "y": [
          -0.2985317916682359,
          -0.1655726112832297
         ],
         "yaxis": "y"
        },
        {
         "hovertemplate": "source=CTV<br>date_str=%{x}<br>chosen_label_val=%{y}<extra></extra>",
         "legendgroup": "CTV",
         "line": {
          "color": "#EF553B",
          "dash": "solid"
         },
         "marker": {
          "symbol": "circle"
         },
         "mode": "lines+markers",
         "name": "CTV",
         "orientation": "v",
         "showlegend": true,
         "type": "scatter",
         "x": [
          "Aug 15, 2023",
          "Aug 16, 2023"
         ],
         "xaxis": "x",
         "y": [
          -0.4346086591399861,
          -0.2025038632689349
         ],
         "yaxis": "y"
        },
        {
         "hovertemplate": "source=Global<br>date_str=%{x}<br>chosen_label_val=%{y}<extra></extra>",
         "legendgroup": "Global",
         "line": {
          "color": "#00cc96",
          "dash": "solid"
         },
         "marker": {
          "symbol": "circle"
         },
         "mode": "lines+markers",
         "name": "Global",
         "orientation": "v",
         "showlegend": true,
         "type": "scatter",
         "x": [
          "Aug 15, 2023",
          "Aug 16, 2023"
         ],
         "xaxis": "x",
         "y": [
          -0.3379550505894445,
          -0.109816820887112
         ],
         "yaxis": "y"
        }
       ],
       "layout": {
        "legend": {
         "title": {
          "text": "source"
         },
         "tracegroupgap": 0
        },
        "template": {
         "data": {
          "bar": [
           {
            "error_x": {
             "color": "#2a3f5f"
            },
            "error_y": {
             "color": "#2a3f5f"
            },
            "marker": {
             "line": {
              "color": "#E5ECF6",
              "width": 0.5
             },
             "pattern": {
              "fillmode": "overlay",
              "size": 10,
              "solidity": 0.2
             }
            },
            "type": "bar"
           }
          ],
          "barpolar": [
           {
            "marker": {
             "line": {
              "color": "#E5ECF6",
              "width": 0.5
             },
             "pattern": {
              "fillmode": "overlay",
              "size": 10,
              "solidity": 0.2
             }
            },
            "type": "barpolar"
           }
          ],
          "carpet": [
           {
            "aaxis": {
             "endlinecolor": "#2a3f5f",
             "gridcolor": "white",
             "linecolor": "white",
             "minorgridcolor": "white",
             "startlinecolor": "#2a3f5f"
            },
            "baxis": {
             "endlinecolor": "#2a3f5f",
             "gridcolor": "white",
             "linecolor": "white",
             "minorgridcolor": "white",
             "startlinecolor": "#2a3f5f"
            },
            "type": "carpet"
           }
          ],
          "choropleth": [
           {
            "colorbar": {
             "outlinewidth": 0,
             "ticks": ""
            },
            "type": "choropleth"
           }
          ],
          "contour": [
           {
            "colorbar": {
             "outlinewidth": 0,
             "ticks": ""
            },
            "colorscale": [
             [
              0,
              "#0d0887"
             ],
             [
              0.1111111111111111,
              "#46039f"
             ],
             [
              0.2222222222222222,
              "#7201a8"
             ],
             [
              0.3333333333333333,
              "#9c179e"
             ],
             [
              0.4444444444444444,
              "#bd3786"
             ],
             [
              0.5555555555555556,
              "#d8576b"
             ],
             [
              0.6666666666666666,
              "#ed7953"
             ],
             [
              0.7777777777777778,
              "#fb9f3a"
             ],
             [
              0.8888888888888888,
              "#fdca26"
             ],
             [
              1,
              "#f0f921"
             ]
            ],
            "type": "contour"
           }
          ],
          "contourcarpet": [
           {
            "colorbar": {
             "outlinewidth": 0,
             "ticks": ""
            },
            "type": "contourcarpet"
           }
          ],
          "heatmap": [
           {
            "colorbar": {
             "outlinewidth": 0,
             "ticks": ""
            },
            "colorscale": [
             [
              0,
              "#0d0887"
             ],
             [
              0.1111111111111111,
              "#46039f"
             ],
             [
              0.2222222222222222,
              "#7201a8"
             ],
             [
              0.3333333333333333,
              "#9c179e"
             ],
             [
              0.4444444444444444,
              "#bd3786"
             ],
             [
              0.5555555555555556,
              "#d8576b"
             ],
             [
              0.6666666666666666,
              "#ed7953"
             ],
             [
              0.7777777777777778,
              "#fb9f3a"
             ],
             [
              0.8888888888888888,
              "#fdca26"
             ],
             [
              1,
              "#f0f921"
             ]
            ],
            "type": "heatmap"
           }
          ],
          "heatmapgl": [
           {
            "colorbar": {
             "outlinewidth": 0,
             "ticks": ""
            },
            "colorscale": [
             [
              0,
              "#0d0887"
             ],
             [
              0.1111111111111111,
              "#46039f"
             ],
             [
              0.2222222222222222,
              "#7201a8"
             ],
             [
              0.3333333333333333,
              "#9c179e"
             ],
             [
              0.4444444444444444,
              "#bd3786"
             ],
             [
              0.5555555555555556,
              "#d8576b"
             ],
             [
              0.6666666666666666,
              "#ed7953"
             ],
             [
              0.7777777777777778,
              "#fb9f3a"
             ],
             [
              0.8888888888888888,
              "#fdca26"
             ],
             [
              1,
              "#f0f921"
             ]
            ],
            "type": "heatmapgl"
           }
          ],
          "histogram": [
           {
            "marker": {
             "pattern": {
              "fillmode": "overlay",
              "size": 10,
              "solidity": 0.2
             }
            },
            "type": "histogram"
           }
          ],
          "histogram2d": [
           {
            "colorbar": {
             "outlinewidth": 0,
             "ticks": ""
            },
            "colorscale": [
             [
              0,
              "#0d0887"
             ],
             [
              0.1111111111111111,
              "#46039f"
             ],
             [
              0.2222222222222222,
              "#7201a8"
             ],
             [
              0.3333333333333333,
              "#9c179e"
             ],
             [
              0.4444444444444444,
              "#bd3786"
             ],
             [
              0.5555555555555556,
              "#d8576b"
             ],
             [
              0.6666666666666666,
              "#ed7953"
             ],
             [
              0.7777777777777778,
              "#fb9f3a"
             ],
             [
              0.8888888888888888,
              "#fdca26"
             ],
             [
              1,
              "#f0f921"
             ]
            ],
            "type": "histogram2d"
           }
          ],
          "histogram2dcontour": [
           {
            "colorbar": {
             "outlinewidth": 0,
             "ticks": ""
            },
            "colorscale": [
             [
              0,
              "#0d0887"
             ],
             [
              0.1111111111111111,
              "#46039f"
             ],
             [
              0.2222222222222222,
              "#7201a8"
             ],
             [
              0.3333333333333333,
              "#9c179e"
             ],
             [
              0.4444444444444444,
              "#bd3786"
             ],
             [
              0.5555555555555556,
              "#d8576b"
             ],
             [
              0.6666666666666666,
              "#ed7953"
             ],
             [
              0.7777777777777778,
              "#fb9f3a"
             ],
             [
              0.8888888888888888,
              "#fdca26"
             ],
             [
              1,
              "#f0f921"
             ]
            ],
            "type": "histogram2dcontour"
           }
          ],
          "mesh3d": [
           {
            "colorbar": {
             "outlinewidth": 0,
             "ticks": ""
            },
            "type": "mesh3d"
           }
          ],
          "parcoords": [
           {
            "line": {
             "colorbar": {
              "outlinewidth": 0,
              "ticks": ""
             }
            },
            "type": "parcoords"
           }
          ],
          "pie": [
           {
            "automargin": true,
            "type": "pie"
           }
          ],
          "scatter": [
           {
            "fillpattern": {
             "fillmode": "overlay",
             "size": 10,
             "solidity": 0.2
            },
            "type": "scatter"
           }
          ],
          "scatter3d": [
           {
            "line": {
             "colorbar": {
              "outlinewidth": 0,
              "ticks": ""
             }
            },
            "marker": {
             "colorbar": {
              "outlinewidth": 0,
              "ticks": ""
             }
            },
            "type": "scatter3d"
           }
          ],
          "scattercarpet": [
           {
            "marker": {
             "colorbar": {
              "outlinewidth": 0,
              "ticks": ""
             }
            },
            "type": "scattercarpet"
           }
          ],
          "scattergeo": [
           {
            "marker": {
             "colorbar": {
              "outlinewidth": 0,
              "ticks": ""
             }
            },
            "type": "scattergeo"
           }
          ],
          "scattergl": [
           {
            "marker": {
             "colorbar": {
              "outlinewidth": 0,
              "ticks": ""
             }
            },
            "type": "scattergl"
           }
          ],
          "scattermapbox": [
           {
            "marker": {
             "colorbar": {
              "outlinewidth": 0,
              "ticks": ""
             }
            },
            "type": "scattermapbox"
           }
          ],
          "scatterpolar": [
           {
            "marker": {
             "colorbar": {
              "outlinewidth": 0,
              "ticks": ""
             }
            },
            "type": "scatterpolar"
           }
          ],
          "scatterpolargl": [
           {
            "marker": {
             "colorbar": {
              "outlinewidth": 0,
              "ticks": ""
             }
            },
            "type": "scatterpolargl"
           }
          ],
          "scatterternary": [
           {
            "marker": {
             "colorbar": {
              "outlinewidth": 0,
              "ticks": ""
             }
            },
            "type": "scatterternary"
           }
          ],
          "surface": [
           {
            "colorbar": {
             "outlinewidth": 0,
             "ticks": ""
            },
            "colorscale": [
             [
              0,
              "#0d0887"
             ],
             [
              0.1111111111111111,
              "#46039f"
             ],
             [
              0.2222222222222222,
              "#7201a8"
             ],
             [
              0.3333333333333333,
              "#9c179e"
             ],
             [
              0.4444444444444444,
              "#bd3786"
             ],
             [
              0.5555555555555556,
              "#d8576b"
             ],
             [
              0.6666666666666666,
              "#ed7953"
             ],
             [
              0.7777777777777778,
              "#fb9f3a"
             ],
             [
              0.8888888888888888,
              "#fdca26"
             ],
             [
              1,
              "#f0f921"
             ]
            ],
            "type": "surface"
           }
          ],
          "table": [
           {
            "cells": {
             "fill": {
              "color": "#EBF0F8"
             },
             "line": {
              "color": "white"
             }
            },
            "header": {
             "fill": {
              "color": "#C8D4E3"
             },
             "line": {
              "color": "white"
             }
            },
            "type": "table"
           }
          ]
         },
         "layout": {
          "annotationdefaults": {
           "arrowcolor": "#2a3f5f",
           "arrowhead": 0,
           "arrowwidth": 1
          },
          "autotypenumbers": "strict",
          "coloraxis": {
           "colorbar": {
            "outlinewidth": 0,
            "ticks": ""
           }
          },
          "colorscale": {
           "diverging": [
            [
             0,
             "#8e0152"
            ],
            [
             0.1,
             "#c51b7d"
            ],
            [
             0.2,
             "#de77ae"
            ],
            [
             0.3,
             "#f1b6da"
            ],
            [
             0.4,
             "#fde0ef"
            ],
            [
             0.5,
             "#f7f7f7"
            ],
            [
             0.6,
             "#e6f5d0"
            ],
            [
             0.7,
             "#b8e186"
            ],
            [
             0.8,
             "#7fbc41"
            ],
            [
             0.9,
             "#4d9221"
            ],
            [
             1,
             "#276419"
            ]
           ],
           "sequential": [
            [
             0,
             "#0d0887"
            ],
            [
             0.1111111111111111,
             "#46039f"
            ],
            [
             0.2222222222222222,
             "#7201a8"
            ],
            [
             0.3333333333333333,
             "#9c179e"
            ],
            [
             0.4444444444444444,
             "#bd3786"
            ],
            [
             0.5555555555555556,
             "#d8576b"
            ],
            [
             0.6666666666666666,
             "#ed7953"
            ],
            [
             0.7777777777777778,
             "#fb9f3a"
            ],
            [
             0.8888888888888888,
             "#fdca26"
            ],
            [
             1,
             "#f0f921"
            ]
           ],
           "sequentialminus": [
            [
             0,
             "#0d0887"
            ],
            [
             0.1111111111111111,
             "#46039f"
            ],
            [
             0.2222222222222222,
             "#7201a8"
            ],
            [
             0.3333333333333333,
             "#9c179e"
            ],
            [
             0.4444444444444444,
             "#bd3786"
            ],
            [
             0.5555555555555556,
             "#d8576b"
            ],
            [
             0.6666666666666666,
             "#ed7953"
            ],
            [
             0.7777777777777778,
             "#fb9f3a"
            ],
            [
             0.8888888888888888,
             "#fdca26"
            ],
            [
             1,
             "#f0f921"
            ]
           ]
          },
          "colorway": [
           "#636efa",
           "#EF553B",
           "#00cc96",
           "#ab63fa",
           "#FFA15A",
           "#19d3f3",
           "#FF6692",
           "#B6E880",
           "#FF97FF",
           "#FECB52"
          ],
          "font": {
           "color": "#2a3f5f"
          },
          "geo": {
           "bgcolor": "white",
           "lakecolor": "white",
           "landcolor": "#E5ECF6",
           "showlakes": true,
           "showland": true,
           "subunitcolor": "white"
          },
          "hoverlabel": {
           "align": "left"
          },
          "hovermode": "closest",
          "mapbox": {
           "style": "light"
          },
          "paper_bgcolor": "white",
          "plot_bgcolor": "#E5ECF6",
          "polar": {
           "angularaxis": {
            "gridcolor": "white",
            "linecolor": "white",
            "ticks": ""
           },
           "bgcolor": "#E5ECF6",
           "radialaxis": {
            "gridcolor": "white",
            "linecolor": "white",
            "ticks": ""
           }
          },
          "scene": {
           "xaxis": {
            "backgroundcolor": "#E5ECF6",
            "gridcolor": "white",
            "gridwidth": 2,
            "linecolor": "white",
            "showbackground": true,
            "ticks": "",
            "zerolinecolor": "white"
           },
           "yaxis": {
            "backgroundcolor": "#E5ECF6",
            "gridcolor": "white",
            "gridwidth": 2,
            "linecolor": "white",
            "showbackground": true,
            "ticks": "",
            "zerolinecolor": "white"
           },
           "zaxis": {
            "backgroundcolor": "#E5ECF6",
            "gridcolor": "white",
            "gridwidth": 2,
            "linecolor": "white",
            "showbackground": true,
            "ticks": "",
            "zerolinecolor": "white"
           }
          },
          "shapedefaults": {
           "line": {
            "color": "#2a3f5f"
           }
          },
          "ternary": {
           "aaxis": {
            "gridcolor": "white",
            "linecolor": "white",
            "ticks": ""
           },
           "baxis": {
            "gridcolor": "white",
            "linecolor": "white",
            "ticks": ""
           },
           "bgcolor": "#E5ECF6",
           "caxis": {
            "gridcolor": "white",
            "linecolor": "white",
            "ticks": ""
           }
          },
          "title": {
           "x": 0.05
          },
          "xaxis": {
           "automargin": true,
           "gridcolor": "white",
           "linecolor": "white",
           "ticks": "",
           "title": {
            "standoff": 15
           },
           "zerolinecolor": "white",
           "zerolinewidth": 2
          },
          "yaxis": {
           "automargin": true,
           "gridcolor": "white",
           "linecolor": "white",
           "ticks": "",
           "title": {
            "standoff": 15
           },
           "zerolinecolor": "white",
           "zerolinewidth": 2
          }
         }
        },
        "title": {
         "text": "Sentiment of Canadian News Outlets Over Time"
        },
        "xaxis": {
         "anchor": "y",
         "domain": [
          0,
          1
         ],
         "title": {
          "text": "Date"
         }
        },
        "yaxis": {
         "anchor": "x",
         "domain": [
          0,
          1
         ],
         "title": {
          "text": "Sentiment Valence"
         }
        }
       }
      }
     },
     "metadata": {},
     "output_type": "display_data"
    }
   ],
   "source": [
    "import plotly.express as px\n",
    "\n",
    "fig = px.line(grouped_df_10, x = 'date_str', y = 'chosen_label_val', color = 'source', title = \"Sentiment Valency over Time\", markers = True)\n",
    "fig.update_layout(\n",
    "    title = \"Sentiment of Canadian News Outlets Over Time\",\n",
    "    xaxis_title = \"Date\",\n",
    "    yaxis_title = \"Sentiment Valence\",\n",
    ")\n",
    "\n",
    "fig.show()"
   ]
  },
  {
   "cell_type": "code",
   "execution_count": 108,
   "metadata": {},
   "outputs": [
    {
     "data": {
      "application/vnd.plotly.v1+json": {
       "config": {
        "plotlyServerURL": "https://plot.ly"
       },
       "data": [
        {
         "hovertemplate": "source=CBC<br>date_str=%{x}<br>chosen_label_val=%{y}<extra></extra>",
         "legendgroup": "CBC",
         "line": {
          "color": "#EC1D2D",
          "dash": "solid"
         },
         "marker": {
          "symbol": "circle"
         },
         "mode": "lines+markers",
         "name": "CBC",
         "orientation": "v",
         "showlegend": true,
         "type": "scatter",
         "x": [
          "Aug 15, 2023",
          "Aug 16, 2023"
         ],
         "xaxis": "x",
         "y": [
          -0.2985317916682359,
          -0.1655726112832297
         ],
         "yaxis": "y"
        },
        {
         "hovertemplate": "source=CTV<br>date_str=%{x}<br>chosen_label_val=%{y}<extra></extra>",
         "legendgroup": "CTV",
         "line": {
          "color": "#0046D4",
          "dash": "solid"
         },
         "marker": {
          "symbol": "circle"
         },
         "mode": "lines+markers",
         "name": "CTV",
         "orientation": "v",
         "showlegend": true,
         "type": "scatter",
         "x": [
          "Aug 15, 2023",
          "Aug 16, 2023"
         ],
         "xaxis": "x",
         "y": [
          -0.4346086591399861,
          -0.2025038632689349
         ],
         "yaxis": "y"
        },
        {
         "hovertemplate": "source=Global<br>date_str=%{x}<br>chosen_label_val=%{y}<extra></extra>",
         "legendgroup": "Global",
         "line": {
          "color": "#231F20",
          "dash": "solid"
         },
         "marker": {
          "symbol": "circle"
         },
         "mode": "lines+markers",
         "name": "Global",
         "orientation": "v",
         "showlegend": true,
         "type": "scatter",
         "x": [
          "Aug 15, 2023",
          "Aug 16, 2023"
         ],
         "xaxis": "x",
         "y": [
          -0.3379550505894445,
          -0.109816820887112
         ],
         "yaxis": "y"
        }
       ],
       "layout": {
        "legend": {
         "title": {
          "text": "source"
         },
         "tracegroupgap": 0
        },
        "template": {
         "data": {
          "bar": [
           {
            "error_x": {
             "color": "#2a3f5f"
            },
            "error_y": {
             "color": "#2a3f5f"
            },
            "marker": {
             "line": {
              "color": "#E5ECF6",
              "width": 0.5
             },
             "pattern": {
              "fillmode": "overlay",
              "size": 10,
              "solidity": 0.2
             }
            },
            "type": "bar"
           }
          ],
          "barpolar": [
           {
            "marker": {
             "line": {
              "color": "#E5ECF6",
              "width": 0.5
             },
             "pattern": {
              "fillmode": "overlay",
              "size": 10,
              "solidity": 0.2
             }
            },
            "type": "barpolar"
           }
          ],
          "carpet": [
           {
            "aaxis": {
             "endlinecolor": "#2a3f5f",
             "gridcolor": "white",
             "linecolor": "white",
             "minorgridcolor": "white",
             "startlinecolor": "#2a3f5f"
            },
            "baxis": {
             "endlinecolor": "#2a3f5f",
             "gridcolor": "white",
             "linecolor": "white",
             "minorgridcolor": "white",
             "startlinecolor": "#2a3f5f"
            },
            "type": "carpet"
           }
          ],
          "choropleth": [
           {
            "colorbar": {
             "outlinewidth": 0,
             "ticks": ""
            },
            "type": "choropleth"
           }
          ],
          "contour": [
           {
            "colorbar": {
             "outlinewidth": 0,
             "ticks": ""
            },
            "colorscale": [
             [
              0,
              "#0d0887"
             ],
             [
              0.1111111111111111,
              "#46039f"
             ],
             [
              0.2222222222222222,
              "#7201a8"
             ],
             [
              0.3333333333333333,
              "#9c179e"
             ],
             [
              0.4444444444444444,
              "#bd3786"
             ],
             [
              0.5555555555555556,
              "#d8576b"
             ],
             [
              0.6666666666666666,
              "#ed7953"
             ],
             [
              0.7777777777777778,
              "#fb9f3a"
             ],
             [
              0.8888888888888888,
              "#fdca26"
             ],
             [
              1,
              "#f0f921"
             ]
            ],
            "type": "contour"
           }
          ],
          "contourcarpet": [
           {
            "colorbar": {
             "outlinewidth": 0,
             "ticks": ""
            },
            "type": "contourcarpet"
           }
          ],
          "heatmap": [
           {
            "colorbar": {
             "outlinewidth": 0,
             "ticks": ""
            },
            "colorscale": [
             [
              0,
              "#0d0887"
             ],
             [
              0.1111111111111111,
              "#46039f"
             ],
             [
              0.2222222222222222,
              "#7201a8"
             ],
             [
              0.3333333333333333,
              "#9c179e"
             ],
             [
              0.4444444444444444,
              "#bd3786"
             ],
             [
              0.5555555555555556,
              "#d8576b"
             ],
             [
              0.6666666666666666,
              "#ed7953"
             ],
             [
              0.7777777777777778,
              "#fb9f3a"
             ],
             [
              0.8888888888888888,
              "#fdca26"
             ],
             [
              1,
              "#f0f921"
             ]
            ],
            "type": "heatmap"
           }
          ],
          "heatmapgl": [
           {
            "colorbar": {
             "outlinewidth": 0,
             "ticks": ""
            },
            "colorscale": [
             [
              0,
              "#0d0887"
             ],
             [
              0.1111111111111111,
              "#46039f"
             ],
             [
              0.2222222222222222,
              "#7201a8"
             ],
             [
              0.3333333333333333,
              "#9c179e"
             ],
             [
              0.4444444444444444,
              "#bd3786"
             ],
             [
              0.5555555555555556,
              "#d8576b"
             ],
             [
              0.6666666666666666,
              "#ed7953"
             ],
             [
              0.7777777777777778,
              "#fb9f3a"
             ],
             [
              0.8888888888888888,
              "#fdca26"
             ],
             [
              1,
              "#f0f921"
             ]
            ],
            "type": "heatmapgl"
           }
          ],
          "histogram": [
           {
            "marker": {
             "pattern": {
              "fillmode": "overlay",
              "size": 10,
              "solidity": 0.2
             }
            },
            "type": "histogram"
           }
          ],
          "histogram2d": [
           {
            "colorbar": {
             "outlinewidth": 0,
             "ticks": ""
            },
            "colorscale": [
             [
              0,
              "#0d0887"
             ],
             [
              0.1111111111111111,
              "#46039f"
             ],
             [
              0.2222222222222222,
              "#7201a8"
             ],
             [
              0.3333333333333333,
              "#9c179e"
             ],
             [
              0.4444444444444444,
              "#bd3786"
             ],
             [
              0.5555555555555556,
              "#d8576b"
             ],
             [
              0.6666666666666666,
              "#ed7953"
             ],
             [
              0.7777777777777778,
              "#fb9f3a"
             ],
             [
              0.8888888888888888,
              "#fdca26"
             ],
             [
              1,
              "#f0f921"
             ]
            ],
            "type": "histogram2d"
           }
          ],
          "histogram2dcontour": [
           {
            "colorbar": {
             "outlinewidth": 0,
             "ticks": ""
            },
            "colorscale": [
             [
              0,
              "#0d0887"
             ],
             [
              0.1111111111111111,
              "#46039f"
             ],
             [
              0.2222222222222222,
              "#7201a8"
             ],
             [
              0.3333333333333333,
              "#9c179e"
             ],
             [
              0.4444444444444444,
              "#bd3786"
             ],
             [
              0.5555555555555556,
              "#d8576b"
             ],
             [
              0.6666666666666666,
              "#ed7953"
             ],
             [
              0.7777777777777778,
              "#fb9f3a"
             ],
             [
              0.8888888888888888,
              "#fdca26"
             ],
             [
              1,
              "#f0f921"
             ]
            ],
            "type": "histogram2dcontour"
           }
          ],
          "mesh3d": [
           {
            "colorbar": {
             "outlinewidth": 0,
             "ticks": ""
            },
            "type": "mesh3d"
           }
          ],
          "parcoords": [
           {
            "line": {
             "colorbar": {
              "outlinewidth": 0,
              "ticks": ""
             }
            },
            "type": "parcoords"
           }
          ],
          "pie": [
           {
            "automargin": true,
            "type": "pie"
           }
          ],
          "scatter": [
           {
            "fillpattern": {
             "fillmode": "overlay",
             "size": 10,
             "solidity": 0.2
            },
            "type": "scatter"
           }
          ],
          "scatter3d": [
           {
            "line": {
             "colorbar": {
              "outlinewidth": 0,
              "ticks": ""
             }
            },
            "marker": {
             "colorbar": {
              "outlinewidth": 0,
              "ticks": ""
             }
            },
            "type": "scatter3d"
           }
          ],
          "scattercarpet": [
           {
            "marker": {
             "colorbar": {
              "outlinewidth": 0,
              "ticks": ""
             }
            },
            "type": "scattercarpet"
           }
          ],
          "scattergeo": [
           {
            "marker": {
             "colorbar": {
              "outlinewidth": 0,
              "ticks": ""
             }
            },
            "type": "scattergeo"
           }
          ],
          "scattergl": [
           {
            "marker": {
             "colorbar": {
              "outlinewidth": 0,
              "ticks": ""
             }
            },
            "type": "scattergl"
           }
          ],
          "scattermapbox": [
           {
            "marker": {
             "colorbar": {
              "outlinewidth": 0,
              "ticks": ""
             }
            },
            "type": "scattermapbox"
           }
          ],
          "scatterpolar": [
           {
            "marker": {
             "colorbar": {
              "outlinewidth": 0,
              "ticks": ""
             }
            },
            "type": "scatterpolar"
           }
          ],
          "scatterpolargl": [
           {
            "marker": {
             "colorbar": {
              "outlinewidth": 0,
              "ticks": ""
             }
            },
            "type": "scatterpolargl"
           }
          ],
          "scatterternary": [
           {
            "marker": {
             "colorbar": {
              "outlinewidth": 0,
              "ticks": ""
             }
            },
            "type": "scatterternary"
           }
          ],
          "surface": [
           {
            "colorbar": {
             "outlinewidth": 0,
             "ticks": ""
            },
            "colorscale": [
             [
              0,
              "#0d0887"
             ],
             [
              0.1111111111111111,
              "#46039f"
             ],
             [
              0.2222222222222222,
              "#7201a8"
             ],
             [
              0.3333333333333333,
              "#9c179e"
             ],
             [
              0.4444444444444444,
              "#bd3786"
             ],
             [
              0.5555555555555556,
              "#d8576b"
             ],
             [
              0.6666666666666666,
              "#ed7953"
             ],
             [
              0.7777777777777778,
              "#fb9f3a"
             ],
             [
              0.8888888888888888,
              "#fdca26"
             ],
             [
              1,
              "#f0f921"
             ]
            ],
            "type": "surface"
           }
          ],
          "table": [
           {
            "cells": {
             "fill": {
              "color": "#EBF0F8"
             },
             "line": {
              "color": "white"
             }
            },
            "header": {
             "fill": {
              "color": "#C8D4E3"
             },
             "line": {
              "color": "white"
             }
            },
            "type": "table"
           }
          ]
         },
         "layout": {
          "annotationdefaults": {
           "arrowcolor": "#2a3f5f",
           "arrowhead": 0,
           "arrowwidth": 1
          },
          "autotypenumbers": "strict",
          "coloraxis": {
           "colorbar": {
            "outlinewidth": 0,
            "ticks": ""
           }
          },
          "colorscale": {
           "diverging": [
            [
             0,
             "#8e0152"
            ],
            [
             0.1,
             "#c51b7d"
            ],
            [
             0.2,
             "#de77ae"
            ],
            [
             0.3,
             "#f1b6da"
            ],
            [
             0.4,
             "#fde0ef"
            ],
            [
             0.5,
             "#f7f7f7"
            ],
            [
             0.6,
             "#e6f5d0"
            ],
            [
             0.7,
             "#b8e186"
            ],
            [
             0.8,
             "#7fbc41"
            ],
            [
             0.9,
             "#4d9221"
            ],
            [
             1,
             "#276419"
            ]
           ],
           "sequential": [
            [
             0,
             "#0d0887"
            ],
            [
             0.1111111111111111,
             "#46039f"
            ],
            [
             0.2222222222222222,
             "#7201a8"
            ],
            [
             0.3333333333333333,
             "#9c179e"
            ],
            [
             0.4444444444444444,
             "#bd3786"
            ],
            [
             0.5555555555555556,
             "#d8576b"
            ],
            [
             0.6666666666666666,
             "#ed7953"
            ],
            [
             0.7777777777777778,
             "#fb9f3a"
            ],
            [
             0.8888888888888888,
             "#fdca26"
            ],
            [
             1,
             "#f0f921"
            ]
           ],
           "sequentialminus": [
            [
             0,
             "#0d0887"
            ],
            [
             0.1111111111111111,
             "#46039f"
            ],
            [
             0.2222222222222222,
             "#7201a8"
            ],
            [
             0.3333333333333333,
             "#9c179e"
            ],
            [
             0.4444444444444444,
             "#bd3786"
            ],
            [
             0.5555555555555556,
             "#d8576b"
            ],
            [
             0.6666666666666666,
             "#ed7953"
            ],
            [
             0.7777777777777778,
             "#fb9f3a"
            ],
            [
             0.8888888888888888,
             "#fdca26"
            ],
            [
             1,
             "#f0f921"
            ]
           ]
          },
          "colorway": [
           "#636efa",
           "#EF553B",
           "#00cc96",
           "#ab63fa",
           "#FFA15A",
           "#19d3f3",
           "#FF6692",
           "#B6E880",
           "#FF97FF",
           "#FECB52"
          ],
          "font": {
           "color": "#2a3f5f"
          },
          "geo": {
           "bgcolor": "white",
           "lakecolor": "white",
           "landcolor": "#E5ECF6",
           "showlakes": true,
           "showland": true,
           "subunitcolor": "white"
          },
          "hoverlabel": {
           "align": "left"
          },
          "hovermode": "closest",
          "mapbox": {
           "style": "light"
          },
          "paper_bgcolor": "white",
          "plot_bgcolor": "#E5ECF6",
          "polar": {
           "angularaxis": {
            "gridcolor": "white",
            "linecolor": "white",
            "ticks": ""
           },
           "bgcolor": "#E5ECF6",
           "radialaxis": {
            "gridcolor": "white",
            "linecolor": "white",
            "ticks": ""
           }
          },
          "scene": {
           "xaxis": {
            "backgroundcolor": "#E5ECF6",
            "gridcolor": "white",
            "gridwidth": 2,
            "linecolor": "white",
            "showbackground": true,
            "ticks": "",
            "zerolinecolor": "white"
           },
           "yaxis": {
            "backgroundcolor": "#E5ECF6",
            "gridcolor": "white",
            "gridwidth": 2,
            "linecolor": "white",
            "showbackground": true,
            "ticks": "",
            "zerolinecolor": "white"
           },
           "zaxis": {
            "backgroundcolor": "#E5ECF6",
            "gridcolor": "white",
            "gridwidth": 2,
            "linecolor": "white",
            "showbackground": true,
            "ticks": "",
            "zerolinecolor": "white"
           }
          },
          "shapedefaults": {
           "line": {
            "color": "#2a3f5f"
           }
          },
          "ternary": {
           "aaxis": {
            "gridcolor": "white",
            "linecolor": "white",
            "ticks": ""
           },
           "baxis": {
            "gridcolor": "white",
            "linecolor": "white",
            "ticks": ""
           },
           "bgcolor": "#E5ECF6",
           "caxis": {
            "gridcolor": "white",
            "linecolor": "white",
            "ticks": ""
           }
          },
          "title": {
           "x": 0.05
          },
          "xaxis": {
           "automargin": true,
           "gridcolor": "white",
           "linecolor": "white",
           "ticks": "",
           "title": {
            "standoff": 15
           },
           "zerolinecolor": "white",
           "zerolinewidth": 2
          },
          "yaxis": {
           "automargin": true,
           "gridcolor": "white",
           "linecolor": "white",
           "ticks": "",
           "title": {
            "standoff": 15
           },
           "zerolinecolor": "white",
           "zerolinewidth": 2
          }
         }
        },
        "title": {
         "font": {
          "size": 20
         },
         "text": "Sentiment of Canadian News Outlets Over Time",
         "x": 0.5,
         "xanchor": "center",
         "y": 0.95,
         "yanchor": "top"
        },
        "xaxis": {
         "anchor": "y",
         "domain": [
          0,
          1
         ],
         "tickfont": {
          "size": 14
         },
         "title": {
          "font": {
           "size": 16
          },
          "text": "Date"
         }
        },
        "yaxis": {
         "anchor": "x",
         "domain": [
          0,
          1
         ],
         "tickfont": {
          "size": 14
         },
         "title": {
          "font": {
           "size": 16
          },
          "text": "Sentiment Valence"
         }
        }
       }
      }
     },
     "metadata": {},
     "output_type": "display_data"
    }
   ],
   "source": [
    "import plotly.express as px\n",
    "\n",
    "# Assuming you already have your grouped_df_10 defined\n",
    "fig = px.line(grouped_df_10, x = 'date_str', y = 'chosen_label_val', color = 'source',\n",
    "              color_discrete_map = {\"CBC\": \"#EC1D2D\", \"CTV\": \"#0046D4\", \"Global\": \"#231F20\"},\n",
    "              title = \"Sentiment Valency over Time\", markers = True)\n",
    "\n",
    "# Updating layout with font sizes and title position\n",
    "fig.update_layout(\n",
    "    title = {\n",
    "        'text': \"Sentiment of Canadian News Outlets Over Time\",\n",
    "        'y':0.95,\n",
    "        'x':0.5,\n",
    "        'xanchor': 'center',\n",
    "        'yanchor': 'top',\n",
    "        'font': {\n",
    "            'size': 20  # or any desired font size\n",
    "        }\n",
    "    },\n",
    "    xaxis_title = \"Date\",\n",
    "    xaxis_title_font_size = 16,  # or any desired font size\n",
    "    xaxis_tickfont_size = 14,  # or any desired font size\n",
    "    yaxis_title = \"Sentiment Valence\",\n",
    "    yaxis_title_font_size = 16,  # or any desired font size\n",
    "    yaxis_tickfont_size = 14   # or any desired font size\n",
    ")\n",
    "\n",
    "fig.show()\n"
   ]
  },
  {
   "cell_type": "markdown",
   "metadata": {},
   "source": [
    "### Re-running old data on new model"
   ]
  },
  {
   "cell_type": "code",
   "execution_count": 110,
   "metadata": {},
   "outputs": [
    {
     "data": {
      "text/plain": [
       "'2023-08-16'"
      ]
     },
     "execution_count": 110,
     "metadata": {},
     "output_type": "execute_result"
    }
   ],
   "source": [
    "today_date = get_today_iso()\n",
    "today_date"
   ]
  },
  {
   "cell_type": "code",
   "execution_count": 112,
   "metadata": {},
   "outputs": [
    {
     "data": {
      "text/plain": [
       "{'neutral': 0.5090616, 'positive': 0.4082349, 'negative': 0.08270366}"
      ]
     },
     "execution_count": 112,
     "metadata": {},
     "output_type": "execute_result"
    }
   ],
   "source": [
    "sa_model(headline = \"hello\")"
   ]
  },
  {
   "cell_type": "code",
   "execution_count": 168,
   "metadata": {},
   "outputs": [
    {
     "name": "stdout",
     "output_type": "stream",
     "text": [
      "2023-08-15_SA_full.csv\n"
     ]
    },
    {
     "data": {
      "text/html": [
       "<div>\n",
       "<style scoped>\n",
       "    .dataframe tbody tr th:only-of-type {\n",
       "        vertical-align: middle;\n",
       "    }\n",
       "\n",
       "    .dataframe tbody tr th {\n",
       "        vertical-align: top;\n",
       "    }\n",
       "\n",
       "    .dataframe thead th {\n",
       "        text-align: right;\n",
       "    }\n",
       "</style>\n",
       "<table border=\"1\" class=\"dataframe\">\n",
       "  <thead>\n",
       "    <tr style=\"text-align: right;\">\n",
       "      <th></th>\n",
       "      <th>source</th>\n",
       "      <th>date</th>\n",
       "      <th>headline</th>\n",
       "      <th>url</th>\n",
       "      <th>chosen_label</th>\n",
       "      <th>positive</th>\n",
       "      <th>negative</th>\n",
       "      <th>neutral</th>\n",
       "      <th>compound</th>\n",
       "    </tr>\n",
       "  </thead>\n",
       "  <tbody>\n",
       "    <tr>\n",
       "      <th>0</th>\n",
       "      <td>Global</td>\n",
       "      <td>2023-08-15</td>\n",
       "      <td>Inflation rates reverse in July, exiting Bank ...</td>\n",
       "      <td>https://globalnews.ca/video/9898898/inflation-...</td>\n",
       "      <td>neutral</td>\n",
       "      <td>0.026564</td>\n",
       "      <td>0.192263</td>\n",
       "      <td>0.781172</td>\n",
       "      <td>-0.036259</td>\n",
       "    </tr>\n",
       "    <tr>\n",
       "      <th>1</th>\n",
       "      <td>Global</td>\n",
       "      <td>2023-08-15</td>\n",
       "      <td>Timelapse of Perseid meteor shower</td>\n",
       "      <td>https://globalnews.ca/video/9891022/timelapse-...</td>\n",
       "      <td>neutral</td>\n",
       "      <td>0.110310</td>\n",
       "      <td>0.015873</td>\n",
       "      <td>0.873817</td>\n",
       "      <td>0.011916</td>\n",
       "    </tr>\n",
       "    <tr>\n",
       "      <th>2</th>\n",
       "      <td>Global</td>\n",
       "      <td>2023-08-15</td>\n",
       "      <td>Why inflation’s latest jump is bad news for th...</td>\n",
       "      <td>https://globalnews.ca/news/9896838/inflation-r...</td>\n",
       "      <td>negative</td>\n",
       "      <td>0.013865</td>\n",
       "      <td>0.783747</td>\n",
       "      <td>0.202388</td>\n",
       "      <td>-0.614067</td>\n",
       "    </tr>\n",
       "    <tr>\n",
       "      <th>3</th>\n",
       "      <td>Global</td>\n",
       "      <td>2023-08-15</td>\n",
       "      <td>Alberta bound: thousands of Canadians flock to...</td>\n",
       "      <td>https://globalnews.ca/video/9898946/alberta-bo...</td>\n",
       "      <td>neutral</td>\n",
       "      <td>0.122714</td>\n",
       "      <td>0.036794</td>\n",
       "      <td>0.840492</td>\n",
       "      <td>0.013705</td>\n",
       "    </tr>\n",
       "    <tr>\n",
       "      <th>4</th>\n",
       "      <td>Global</td>\n",
       "      <td>2023-08-15</td>\n",
       "      <td>Recent Calgary shootings have hallmarks of org...</td>\n",
       "      <td>https://globalnews.ca/video/9898908/recent-cal...</td>\n",
       "      <td>negative</td>\n",
       "      <td>0.008512</td>\n",
       "      <td>0.688372</td>\n",
       "      <td>0.303116</td>\n",
       "      <td>-0.473784</td>\n",
       "    </tr>\n",
       "  </tbody>\n",
       "</table>\n",
       "</div>"
      ],
      "text/plain": [
       "   source        date                                           headline  \\\n",
       "0  Global  2023-08-15  Inflation rates reverse in July, exiting Bank ...   \n",
       "1  Global  2023-08-15                 Timelapse of Perseid meteor shower   \n",
       "2  Global  2023-08-15  Why inflation’s latest jump is bad news for th...   \n",
       "3  Global  2023-08-15  Alberta bound: thousands of Canadians flock to...   \n",
       "4  Global  2023-08-15  Recent Calgary shootings have hallmarks of org...   \n",
       "\n",
       "                                                 url chosen_label  positive  \\\n",
       "0  https://globalnews.ca/video/9898898/inflation-...      neutral  0.026564   \n",
       "1  https://globalnews.ca/video/9891022/timelapse-...      neutral  0.110310   \n",
       "2  https://globalnews.ca/news/9896838/inflation-r...     negative  0.013865   \n",
       "3  https://globalnews.ca/video/9898946/alberta-bo...      neutral  0.122714   \n",
       "4  https://globalnews.ca/video/9898908/recent-cal...     negative  0.008512   \n",
       "\n",
       "   negative   neutral  compound  \n",
       "0  0.192263  0.781172 -0.036259  \n",
       "1  0.015873  0.873817  0.011916  \n",
       "2  0.783747  0.202388 -0.614067  \n",
       "3  0.036794  0.840492  0.013705  \n",
       "4  0.688372  0.303116 -0.473784  "
      ]
     },
     "execution_count": 168,
     "metadata": {},
     "output_type": "execute_result"
    }
   ],
   "source": [
    "data_dir = \"../data/\"\n",
    "dfs = []\n",
    "for fpath in os.listdir(data_dir):\n",
    "    if '2023-08-15' in fpath:\n",
    "        if 'full' in fpath:\n",
    "            print(fpath)\n",
    "            dfs.append(pd.read_csv(data_dir + fpath))\n",
    "\n",
    "df = dfs[0].copy().drop(columns = 'chosen_label_val')\n",
    "df.head(5)"
   ]
  },
  {
   "cell_type": "code",
   "execution_count": 169,
   "metadata": {},
   "outputs": [
    {
     "name": "stderr",
     "output_type": "stream",
     "text": [
      "Headlines: 100%|██████████| 168/168 [00:07<00:00, 22.10it/s]\n"
     ]
    },
    {
     "data": {
      "text/html": [
       "<div>\n",
       "<style scoped>\n",
       "    .dataframe tbody tr th:only-of-type {\n",
       "        vertical-align: middle;\n",
       "    }\n",
       "\n",
       "    .dataframe tbody tr th {\n",
       "        vertical-align: top;\n",
       "    }\n",
       "\n",
       "    .dataframe thead th {\n",
       "        text-align: right;\n",
       "    }\n",
       "</style>\n",
       "<table border=\"1\" class=\"dataframe\">\n",
       "  <thead>\n",
       "    <tr style=\"text-align: right;\">\n",
       "      <th></th>\n",
       "      <th>source</th>\n",
       "      <th>date</th>\n",
       "      <th>headline</th>\n",
       "      <th>url</th>\n",
       "      <th>chosen_label</th>\n",
       "      <th>positive</th>\n",
       "      <th>negative</th>\n",
       "      <th>neutral</th>\n",
       "      <th>compound</th>\n",
       "    </tr>\n",
       "  </thead>\n",
       "  <tbody>\n",
       "    <tr>\n",
       "      <th>0</th>\n",
       "      <td>Global</td>\n",
       "      <td>2023-08-15</td>\n",
       "      <td>Inflation rates reverse in July, exiting Bank ...</td>\n",
       "      <td>https://globalnews.ca/video/9898898/inflation-...</td>\n",
       "      <td>neutral</td>\n",
       "      <td>0.026564</td>\n",
       "      <td>0.192263</td>\n",
       "      <td>0.781172</td>\n",
       "      <td>-0.036259</td>\n",
       "    </tr>\n",
       "    <tr>\n",
       "      <th>1</th>\n",
       "      <td>Global</td>\n",
       "      <td>2023-08-15</td>\n",
       "      <td>Timelapse of Perseid meteor shower</td>\n",
       "      <td>https://globalnews.ca/video/9891022/timelapse-...</td>\n",
       "      <td>neutral</td>\n",
       "      <td>0.110310</td>\n",
       "      <td>0.015873</td>\n",
       "      <td>0.873817</td>\n",
       "      <td>0.011916</td>\n",
       "    </tr>\n",
       "    <tr>\n",
       "      <th>2</th>\n",
       "      <td>Global</td>\n",
       "      <td>2023-08-15</td>\n",
       "      <td>Why inflation’s latest jump is bad news for th...</td>\n",
       "      <td>https://globalnews.ca/news/9896838/inflation-r...</td>\n",
       "      <td>negative</td>\n",
       "      <td>0.013865</td>\n",
       "      <td>0.783747</td>\n",
       "      <td>0.202388</td>\n",
       "      <td>-0.614067</td>\n",
       "    </tr>\n",
       "    <tr>\n",
       "      <th>3</th>\n",
       "      <td>Global</td>\n",
       "      <td>2023-08-15</td>\n",
       "      <td>Alberta bound: thousands of Canadians flock to...</td>\n",
       "      <td>https://globalnews.ca/video/9898946/alberta-bo...</td>\n",
       "      <td>neutral</td>\n",
       "      <td>0.122714</td>\n",
       "      <td>0.036794</td>\n",
       "      <td>0.840492</td>\n",
       "      <td>0.013705</td>\n",
       "    </tr>\n",
       "    <tr>\n",
       "      <th>4</th>\n",
       "      <td>Global</td>\n",
       "      <td>2023-08-15</td>\n",
       "      <td>Recent Calgary shootings have hallmarks of org...</td>\n",
       "      <td>https://globalnews.ca/video/9898908/recent-cal...</td>\n",
       "      <td>negative</td>\n",
       "      <td>0.008512</td>\n",
       "      <td>0.688372</td>\n",
       "      <td>0.303116</td>\n",
       "      <td>-0.473784</td>\n",
       "    </tr>\n",
       "    <tr>\n",
       "      <th>...</th>\n",
       "      <td>...</td>\n",
       "      <td>...</td>\n",
       "      <td>...</td>\n",
       "      <td>...</td>\n",
       "      <td>...</td>\n",
       "      <td>...</td>\n",
       "      <td>...</td>\n",
       "      <td>...</td>\n",
       "      <td>...</td>\n",
       "    </tr>\n",
       "    <tr>\n",
       "      <th>163</th>\n",
       "      <td>CBC</td>\n",
       "      <td>2023-08-15</td>\n",
       "      <td>The National</td>\n",
       "      <td>https://www.cbc.ca/player/play/2074756675798</td>\n",
       "      <td>neutral</td>\n",
       "      <td>0.126469</td>\n",
       "      <td>0.062770</td>\n",
       "      <td>0.810761</td>\n",
       "      <td>0.012054</td>\n",
       "    </tr>\n",
       "    <tr>\n",
       "      <th>164</th>\n",
       "      <td>CBC</td>\n",
       "      <td>2023-08-15</td>\n",
       "      <td>City of St. John's rejects owner's pleas to te...</td>\n",
       "      <td>https://www.cbc.ca/news/canada/newfoundland-la...</td>\n",
       "      <td>negative</td>\n",
       "      <td>0.006242</td>\n",
       "      <td>0.758321</td>\n",
       "      <td>0.235436</td>\n",
       "      <td>-0.575012</td>\n",
       "    </tr>\n",
       "    <tr>\n",
       "      <th>165</th>\n",
       "      <td>CBC</td>\n",
       "      <td>2023-08-15</td>\n",
       "      <td>Federal government has gone more than six mont...</td>\n",
       "      <td>https://www.cbc.ca/news/politics/ethics-commis...</td>\n",
       "      <td>negative</td>\n",
       "      <td>0.017374</td>\n",
       "      <td>0.618263</td>\n",
       "      <td>0.364363</td>\n",
       "      <td>-0.381947</td>\n",
       "    </tr>\n",
       "    <tr>\n",
       "      <th>166</th>\n",
       "      <td>CBC</td>\n",
       "      <td>2023-08-15</td>\n",
       "      <td>And that's a wrap: Edmonton restaurant chain w...</td>\n",
       "      <td>https://www.cbc.ca/news/canada/edmonton/donair...</td>\n",
       "      <td>positive</td>\n",
       "      <td>0.226506</td>\n",
       "      <td>0.015125</td>\n",
       "      <td>0.758369</td>\n",
       "      <td>0.051076</td>\n",
       "    </tr>\n",
       "    <tr>\n",
       "      <th>167</th>\n",
       "      <td>CBC</td>\n",
       "      <td>2023-08-15</td>\n",
       "      <td>They witnessed Maui's devastating wildfire. No...</td>\n",
       "      <td>https://www.cbc.ca/news/canada/british-columbi...</td>\n",
       "      <td>negative</td>\n",
       "      <td>0.042652</td>\n",
       "      <td>0.430177</td>\n",
       "      <td>0.527171</td>\n",
       "      <td>-0.183233</td>\n",
       "    </tr>\n",
       "  </tbody>\n",
       "</table>\n",
       "<p>168 rows × 9 columns</p>\n",
       "</div>"
      ],
      "text/plain": [
       "     source        date                                           headline  \\\n",
       "0    Global  2023-08-15  Inflation rates reverse in July, exiting Bank ...   \n",
       "1    Global  2023-08-15                 Timelapse of Perseid meteor shower   \n",
       "2    Global  2023-08-15  Why inflation’s latest jump is bad news for th...   \n",
       "3    Global  2023-08-15  Alberta bound: thousands of Canadians flock to...   \n",
       "4    Global  2023-08-15  Recent Calgary shootings have hallmarks of org...   \n",
       "..      ...         ...                                                ...   \n",
       "163     CBC  2023-08-15                                       The National   \n",
       "164     CBC  2023-08-15  City of St. John's rejects owner's pleas to te...   \n",
       "165     CBC  2023-08-15  Federal government has gone more than six mont...   \n",
       "166     CBC  2023-08-15  And that's a wrap: Edmonton restaurant chain w...   \n",
       "167     CBC  2023-08-15  They witnessed Maui's devastating wildfire. No...   \n",
       "\n",
       "                                                   url chosen_label  positive  \\\n",
       "0    https://globalnews.ca/video/9898898/inflation-...      neutral  0.026564   \n",
       "1    https://globalnews.ca/video/9891022/timelapse-...      neutral  0.110310   \n",
       "2    https://globalnews.ca/news/9896838/inflation-r...     negative  0.013865   \n",
       "3    https://globalnews.ca/video/9898946/alberta-bo...      neutral  0.122714   \n",
       "4    https://globalnews.ca/video/9898908/recent-cal...     negative  0.008512   \n",
       "..                                                 ...          ...       ...   \n",
       "163       https://www.cbc.ca/player/play/2074756675798      neutral  0.126469   \n",
       "164  https://www.cbc.ca/news/canada/newfoundland-la...     negative  0.006242   \n",
       "165  https://www.cbc.ca/news/politics/ethics-commis...     negative  0.017374   \n",
       "166  https://www.cbc.ca/news/canada/edmonton/donair...     positive  0.226506   \n",
       "167  https://www.cbc.ca/news/canada/british-columbi...     negative  0.042652   \n",
       "\n",
       "     negative   neutral  compound  \n",
       "0    0.192263  0.781172 -0.036259  \n",
       "1    0.015873  0.873817  0.011916  \n",
       "2    0.783747  0.202388 -0.614067  \n",
       "3    0.036794  0.840492  0.013705  \n",
       "4    0.688372  0.303116 -0.473784  \n",
       "..        ...       ...       ...  \n",
       "163  0.062770  0.810761  0.012054  \n",
       "164  0.758321  0.235436 -0.575012  \n",
       "165  0.618263  0.364363 -0.381947  \n",
       "166  0.015125  0.758369  0.051076  \n",
       "167  0.430177  0.527171 -0.183233  \n",
       "\n",
       "[168 rows x 9 columns]"
      ]
     },
     "execution_count": 169,
     "metadata": {},
     "output_type": "execute_result"
    }
   ],
   "source": [
    "for row in tqdm(df.index, desc = \"Headlines\"):\n",
    "\n",
    "    headline = df.loc[row, 'headline']\n",
    "    \n",
    "    ### new model SA -- returns dict like \n",
    "    response = sa_model(headline)\n",
    "\n",
    "    compound = (response['positive'] - response['negative']) * (1 - response['neutral'])\n",
    "    \n",
    "    if compound >= 0.05:\n",
    "        df.loc[row, 'chosen_label'] = 'positive'\n",
    "    elif compound <= -0.05:\n",
    "        df.loc[row, 'chosen_label'] = 'negative'\n",
    "    else:\n",
    "        df.loc[row, 'chosen_label'] = 'neutral'\n",
    "\n",
    "    df.loc[row, 'compound'] = compound\n",
    "\n",
    "    for lab, score in response.items():\n",
    "        df.loc[row, lab] = score\n",
    "\n",
    "df"
   ]
  },
  {
   "cell_type": "code",
   "execution_count": 170,
   "metadata": {},
   "outputs": [
    {
     "data": {
      "text/html": [
       "<div>\n",
       "<style scoped>\n",
       "    .dataframe tbody tr th:only-of-type {\n",
       "        vertical-align: middle;\n",
       "    }\n",
       "\n",
       "    .dataframe tbody tr th {\n",
       "        vertical-align: top;\n",
       "    }\n",
       "\n",
       "    .dataframe thead th {\n",
       "        text-align: right;\n",
       "    }\n",
       "</style>\n",
       "<table border=\"1\" class=\"dataframe\">\n",
       "  <thead>\n",
       "    <tr style=\"text-align: right;\">\n",
       "      <th></th>\n",
       "      <th>date</th>\n",
       "      <th>source</th>\n",
       "      <th>positive</th>\n",
       "      <th>negative</th>\n",
       "      <th>neutral</th>\n",
       "      <th>compound</th>\n",
       "      <th>chosen_label</th>\n",
       "    </tr>\n",
       "  </thead>\n",
       "  <tbody>\n",
       "    <tr>\n",
       "      <th>0</th>\n",
       "      <td>2023-08-15</td>\n",
       "      <td>CBC</td>\n",
       "      <td>0.082955</td>\n",
       "      <td>0.296434</td>\n",
       "      <td>0.620611</td>\n",
       "      <td>-0.129276</td>\n",
       "      <td>negative</td>\n",
       "    </tr>\n",
       "    <tr>\n",
       "      <th>1</th>\n",
       "      <td>2023-08-15</td>\n",
       "      <td>CTV</td>\n",
       "      <td>0.082049</td>\n",
       "      <td>0.378050</td>\n",
       "      <td>0.539901</td>\n",
       "      <td>-0.191215</td>\n",
       "      <td>negative</td>\n",
       "    </tr>\n",
       "    <tr>\n",
       "      <th>2</th>\n",
       "      <td>2023-08-15</td>\n",
       "      <td>Global</td>\n",
       "      <td>0.088390</td>\n",
       "      <td>0.326688</td>\n",
       "      <td>0.584922</td>\n",
       "      <td>-0.164836</td>\n",
       "      <td>negative</td>\n",
       "    </tr>\n",
       "  </tbody>\n",
       "</table>\n",
       "</div>"
      ],
      "text/plain": [
       "         date  source  positive  negative   neutral  compound chosen_label\n",
       "0  2023-08-15     CBC  0.082955  0.296434  0.620611 -0.129276     negative\n",
       "1  2023-08-15     CTV  0.082049  0.378050  0.539901 -0.191215     negative\n",
       "2  2023-08-15  Global  0.088390  0.326688  0.584922 -0.164836     negative"
      ]
     },
     "execution_count": 170,
     "metadata": {},
     "output_type": "execute_result"
    }
   ],
   "source": [
    "### WRITING DAILY DF TO CSV\n",
    "df.to_csv(f\"../data/2023-08-15_SA_full.csv\", index = False)\n",
    "\n",
    "grouped_df = df.groupby(['date', 'source']).mean(numeric_only = True).reset_index()\n",
    "new_labs = []\n",
    "\n",
    "for row in grouped_df.index:\n",
    "    val = grouped_df.loc[row, 'compound']\n",
    "\n",
    "    if val >= 0.05:\n",
    "        new_labs.append('positive')\n",
    "    elif val <= -0.05:\n",
    "        new_labs.append('negative')\n",
    "    else:\n",
    "        new_labs.append('neutral')\n",
    "\n",
    "grouped_df['chosen_label'] = new_labs\n",
    "grouped_df.to_csv(f\"../data/2023-08-15_SA_grouped.csv\", index = False)\n",
    "grouped_df"
   ]
  }
 ],
 "metadata": {
  "kernelspec": {
   "display_name": "base",
   "language": "python",
   "name": "python3"
  },
  "language_info": {
   "codemirror_mode": {
    "name": "ipython",
    "version": 3
   },
   "file_extension": ".py",
   "mimetype": "text/x-python",
   "name": "python",
   "nbconvert_exporter": "python",
   "pygments_lexer": "ipython3",
   "version": "3.10.2"
  },
  "orig_nbformat": 4
 },
 "nbformat": 4,
 "nbformat_minor": 2
}
